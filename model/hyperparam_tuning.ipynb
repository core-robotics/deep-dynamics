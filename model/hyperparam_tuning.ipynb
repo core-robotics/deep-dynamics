{
 "cells": [
  {
   "cell_type": "code",
   "execution_count": 5,
   "metadata": {},
   "outputs": [
    {
     "name": "stderr",
     "output_type": "stream",
     "text": [
      "\u001b[1;38;5;214mCOMET WARNING:\u001b[0m To get all data logged automatically, import comet_ml before the following modules: torch.\n",
      "\u001b[1;38;5;39mCOMET INFO:\u001b[0m ---------------------------------------------------------------------------------------\n",
      "\u001b[1;38;5;39mCOMET INFO:\u001b[0m Comet.ml Experiment Summary\n",
      "\u001b[1;38;5;39mCOMET INFO:\u001b[0m ---------------------------------------------------------------------------------------\n",
      "\u001b[1;38;5;39mCOMET INFO:\u001b[0m   Data:\n",
      "\u001b[1;38;5;39mCOMET INFO:\u001b[0m     display_summary_level : 1\n",
      "\u001b[1;38;5;39mCOMET INFO:\u001b[0m     url                   : https://www.comet.com/deep-dynamics/deep-dynamics/4b5668395dd146f092eb476d8b0adefa\n",
      "\u001b[1;38;5;39mCOMET INFO:\u001b[0m   Metrics [count] (min, max):\n",
      "\u001b[1;38;5;39mCOMET INFO:\u001b[0m     val_loss [200] : (0.011333986185491085, 0.6014692187309265)\n",
      "\u001b[1;38;5;39mCOMET INFO:\u001b[0m   Others:\n",
      "\u001b[1;38;5;39mCOMET INFO:\u001b[0m     Name : 2layers_16neurons_4batch_0lr\n",
      "\u001b[1;38;5;39mCOMET INFO:\u001b[0m   Parameters:\n",
      "\u001b[1;38;5;39mCOMET INFO:\u001b[0m     ACTIONS       : ['THROTTLE_CMD', 'STEERING_CMD']\n",
      "\u001b[1;38;5;39mCOMET INFO:\u001b[0m     MODEL         : {\"HORIZON\": 2, \"LAYERS\": [{\"ACTIVATION\": \"Mish\", \"DENSE\": null, \"OUT_FEATURES\": 16}, {\"ACTIVATION\": \"Mish\", \"DENSE\": null, \"OUT_FEATURES\": 16}, {\"ACTIVATION\": \"Softplus\", \"DENSE\": null}], \"NAME\": \"DeepDynamics\", \"OPTIMIZATION\": {\"BATCH_SIZE\": 4, \"LOSS\": \"MAE\", \"LR\": 0.0001, \"NUM_EPOCHS\": 400, \"OPTIMIZER\": \"Adam\"}}\n",
      "\u001b[1;38;5;39mCOMET INFO:\u001b[0m     PARAMETERS    : [{'Bf': 2.579}, {'Cf': 1.2}, {'Df': 0.192}, {'Br': 3.3852}, {'Cr': 1.2691}, {'Dr': 0.1737}, {'Cm1': 0.287}, {'Cm2': 0.0545}, {'Cr0': 0.0518}, {'Cr2': 0.00035}, {'Izz': 2.78e-05}]\n",
      "\u001b[1;38;5;39mCOMET INFO:\u001b[0m     STATE         : ['VX', 'VY', 'YAW_RATE', 'THROTTLE_FB', 'STEERING_FB']\n",
      "\u001b[1;38;5;39mCOMET INFO:\u001b[0m     VEHICLE_SPECS : {\"lf\": 0.029, \"lr\": 0.033, \"mass\": 0.041}\n",
      "\u001b[1;38;5;39mCOMET INFO:\u001b[0m   Uploads:\n",
      "\u001b[1;38;5;39mCOMET INFO:\u001b[0m     environment details      : 1\n",
      "\u001b[1;38;5;39mCOMET INFO:\u001b[0m     filename                 : 1\n",
      "\u001b[1;38;5;39mCOMET INFO:\u001b[0m     git metadata             : 1\n",
      "\u001b[1;38;5;39mCOMET INFO:\u001b[0m     git-patch (uncompressed) : 1 (1.53 KB)\n",
      "\u001b[1;38;5;39mCOMET INFO:\u001b[0m     installed packages       : 1\n",
      "\u001b[1;38;5;39mCOMET INFO:\u001b[0m     model-element            : 8 (19.81 KB)\n",
      "\u001b[1;38;5;39mCOMET INFO:\u001b[0m     notebook                 : 1\n",
      "\u001b[1;38;5;39mCOMET INFO:\u001b[0m     os packages              : 1\n",
      "\u001b[1;38;5;39mCOMET INFO:\u001b[0m     source_code              : 1\n",
      "\u001b[1;38;5;39mCOMET INFO:\u001b[0m \n",
      "\u001b[1;38;5;214mCOMET WARNING:\u001b[0m To get all data logged automatically, import comet_ml before the following modules: torch.\n"
     ]
    },
    {
     "name": "stdout",
     "output_type": "stream",
     "text": [
      "[Linear(in_features=14, out_features=16, bias=True), Mish(), Linear(in_features=16, out_features=16, bias=True), Mish(), Linear(in_features=16, out_features=11, bias=True), Softplus(beta=1, threshold=20)]\n"
     ]
    },
    {
     "name": "stderr",
     "output_type": "stream",
     "text": [
      "\u001b[1;38;5;214mCOMET WARNING:\u001b[0m As you are running in a Jupyter environment, you will need to call `experiment.end()` when finished to ensure all metrics and code are logged before exiting.\n",
      "\u001b[1;38;5;39mCOMET INFO:\u001b[0m Experiment is live on comet.com https://www.comet.com/deep-dynamics/deep-dynamics/f1309ce2126a4a3aaf44e334e1e8b89c\n",
      "\n"
     ]
    },
    {
     "name": "stdout",
     "output_type": "stream",
     "text": [
      "Validation loss decreased (inf --> 0.303380).  Saving model ...\n",
      "Epoch: 1/400... Loss: 0.396140... Val Loss: 0.303380\n",
      "Validation loss decreased (0.303380 --> 0.258395).  Saving model ...\n",
      "Epoch: 2/400... Loss: 0.237691... Val Loss: 0.258395\n",
      "Validation loss decreased (0.258395 --> 0.204253).  Saving model ...\n",
      "Epoch: 3/400... Loss: 0.245946... Val Loss: 0.204253\n",
      "Validation loss decreased (0.204253 --> 0.143318).  Saving model ...\n",
      "Epoch: 4/400... Loss: 0.191886... Val Loss: 0.143318\n",
      "Validation loss decreased (0.143318 --> 0.085126).  Saving model ...\n",
      "Epoch: 5/400... Loss: 0.094985... Val Loss: 0.085126\n",
      "Validation loss decreased (0.085126 --> 0.047600).  Saving model ...\n",
      "Epoch: 6/400... Loss: 0.075577... Val Loss: 0.047600\n",
      "Validation loss decreased (0.047600 --> 0.033210).  Saving model ...\n",
      "Epoch: 7/400... Loss: 0.120970... Val Loss: 0.033210\n",
      "Validation loss decreased (0.033210 --> 0.027208).  Saving model ...\n",
      "Epoch: 8/400... Loss: 0.028646... Val Loss: 0.027208\n",
      "Validation loss decreased (0.027208 --> 0.024144).  Saving model ...\n",
      "Epoch: 9/400... Loss: 0.005140... Val Loss: 0.024144\n",
      "Validation loss decreased (0.024144 --> 0.022206).  Saving model ...\n",
      "Epoch: 10/400... Loss: 0.360349... Val Loss: 0.022206\n",
      "Validation loss decreased (0.022206 --> 0.020801).  Saving model ...\n",
      "Epoch: 11/400... Loss: 0.015676... Val Loss: 0.020801\n",
      "Validation loss decreased (0.020801 --> 0.019721).  Saving model ...\n",
      "Epoch: 12/400... Loss: 0.017031... Val Loss: 0.019721\n",
      "Validation loss decreased (0.019721 --> 0.018841).  Saving model ...\n",
      "Epoch: 13/400... Loss: 0.018660... Val Loss: 0.018841\n",
      "Validation loss decreased (0.018841 --> 0.018081).  Saving model ...\n",
      "Epoch: 14/400... Loss: 0.017323... Val Loss: 0.018081\n",
      "Validation loss decreased (0.018081 --> 0.017448).  Saving model ...\n",
      "Epoch: 15/400... Loss: 0.004243... Val Loss: 0.017448\n",
      "Validation loss decreased (0.017448 --> 0.016889).  Saving model ...\n",
      "Epoch: 16/400... Loss: 0.005495... Val Loss: 0.016889\n",
      "Validation loss decreased (0.016889 --> 0.016484).  Saving model ...\n",
      "Epoch: 17/400... Loss: 0.002794... Val Loss: 0.016484\n",
      "Validation loss decreased (0.016484 --> 0.016223).  Saving model ...\n",
      "Epoch: 18/400... Loss: 0.045047... Val Loss: 0.016223\n",
      "Validation loss decreased (0.016223 --> 0.016044).  Saving model ...\n",
      "Epoch: 19/400... Loss: 0.003024... Val Loss: 0.016044\n",
      "Validation loss decreased (0.016044 --> 0.015922).  Saving model ...\n",
      "Epoch: 20/400... Loss: 0.093395... Val Loss: 0.015922\n",
      "Validation loss decreased (0.015922 --> 0.015821).  Saving model ...\n",
      "Epoch: 21/400... Loss: 0.001616... Val Loss: 0.015821\n",
      "Validation loss decreased (0.015821 --> 0.015734).  Saving model ...\n",
      "Epoch: 22/400... Loss: 0.050478... Val Loss: 0.015734\n",
      "Validation loss decreased (0.015734 --> 0.015661).  Saving model ...\n",
      "Epoch: 23/400... Loss: 0.005327... Val Loss: 0.015661\n",
      "Validation loss decreased (0.015661 --> 0.015584).  Saving model ...\n",
      "Epoch: 24/400... Loss: 0.070276... Val Loss: 0.015584\n",
      "Validation loss decreased (0.015584 --> 0.015523).  Saving model ...\n",
      "Epoch: 25/400... Loss: 0.004422... Val Loss: 0.015523\n",
      "Validation loss decreased (0.015523 --> 0.015465).  Saving model ...\n",
      "Epoch: 26/400... Loss: 0.027377... Val Loss: 0.015465\n",
      "Validation loss decreased (0.015465 --> 0.015400).  Saving model ...\n",
      "Epoch: 27/400... Loss: 0.008410... Val Loss: 0.015400\n",
      "Validation loss decreased (0.015400 --> 0.015338).  Saving model ...\n",
      "Epoch: 28/400... Loss: 0.007576... Val Loss: 0.015338\n",
      "Validation loss decreased (0.015338 --> 0.015286).  Saving model ...\n",
      "Epoch: 29/400... Loss: 0.043427... Val Loss: 0.015286\n",
      "Validation loss decreased (0.015286 --> 0.015220).  Saving model ...\n",
      "Epoch: 30/400... Loss: 0.008795... Val Loss: 0.015220\n",
      "Validation loss decreased (0.015220 --> 0.015152).  Saving model ...\n",
      "Epoch: 31/400... Loss: 0.017117... Val Loss: 0.015152\n",
      "Validation loss decreased (0.015152 --> 0.015078).  Saving model ...\n",
      "Epoch: 32/400... Loss: 0.002913... Val Loss: 0.015078\n",
      "Validation loss decreased (0.015078 --> 0.015005).  Saving model ...\n",
      "Epoch: 33/400... Loss: 0.006159... Val Loss: 0.015005\n",
      "Validation loss decreased (0.015005 --> 0.014876).  Saving model ...\n",
      "Epoch: 34/400... Loss: 0.124693... Val Loss: 0.014876\n",
      "Validation loss decreased (0.014876 --> 0.014714).  Saving model ...\n",
      "Epoch: 35/400... Loss: 0.023222... Val Loss: 0.014714\n",
      "Validation loss decreased (0.014714 --> 0.014401).  Saving model ...\n",
      "Epoch: 36/400... Loss: 0.005870... Val Loss: 0.014401\n",
      "Validation loss decreased (0.014401 --> 0.013717).  Saving model ...\n",
      "Epoch: 37/400... Loss: 0.004535... Val Loss: 0.013717\n",
      "Validation loss decreased (0.013717 --> 0.012948).  Saving model ...\n",
      "Epoch: 38/400... Loss: 0.001649... Val Loss: 0.012948\n",
      "Validation loss decreased (0.012948 --> 0.012269).  Saving model ...\n",
      "Epoch: 39/400... Loss: 0.222952... Val Loss: 0.012269\n",
      "Validation loss decreased (0.012269 --> 0.012244).  Saving model ...\n",
      "Epoch: 40/400... Loss: 0.005417... Val Loss: 0.012244\n",
      "Validation loss decreased (0.012244 --> 0.011794).  Saving model ...\n",
      "Epoch: 41/400... Loss: 0.023167... Val Loss: 0.011794\n",
      "Epoch: 42/400... Loss: 0.025057... Val Loss: 0.012732\n",
      "Validation loss decreased (0.011794 --> 0.011606).  Saving model ...\n",
      "Epoch: 43/400... Loss: 0.142611... Val Loss: 0.011606\n",
      "Validation loss decreased (0.011606 --> 0.011013).  Saving model ...\n",
      "Epoch: 44/400... Loss: 0.010878... Val Loss: 0.011013\n",
      "Validation loss decreased (0.011013 --> 0.010794).  Saving model ...\n",
      "Epoch: 45/400... Loss: 0.001954... Val Loss: 0.010794\n",
      "Validation loss decreased (0.010794 --> 0.010358).  Saving model ...\n",
      "Epoch: 46/400... Loss: 0.005310... Val Loss: 0.010358\n",
      "Validation loss decreased (0.010358 --> 0.009994).  Saving model ...\n",
      "Epoch: 47/400... Loss: 0.003627... Val Loss: 0.009994\n",
      "Validation loss decreased (0.009994 --> 0.009635).  Saving model ...\n",
      "Epoch: 48/400... Loss: 0.014498... Val Loss: 0.009635\n",
      "Validation loss decreased (0.009635 --> 0.009548).  Saving model ...\n",
      "Epoch: 49/400... Loss: 0.000437... Val Loss: 0.009548\n",
      "Validation loss decreased (0.009548 --> 0.008925).  Saving model ...\n",
      "Epoch: 50/400... Loss: 0.060086... Val Loss: 0.008925\n",
      "Epoch: 51/400... Loss: 0.006425... Val Loss: 0.009176\n",
      "Validation loss decreased (0.008925 --> 0.008916).  Saving model ...\n",
      "Epoch: 52/400... Loss: 0.001449... Val Loss: 0.008916\n",
      "Validation loss decreased (0.008916 --> 0.007924).  Saving model ...\n",
      "Epoch: 53/400... Loss: 0.012856... Val Loss: 0.007924\n",
      "Validation loss decreased (0.007924 --> 0.007698).  Saving model ...\n",
      "Epoch: 54/400... Loss: 0.005323... Val Loss: 0.007698\n"
     ]
    },
    {
     "name": "stderr",
     "output_type": "stream",
     "text": [
      "\u001b[1;38;5;196mCOMET ERROR:\u001b[0m File upload failed: ValueError('Uploading file failed (500) with max retries: 4 on url \\'https://www.comet.com/clientlib/asset/upload\\': b\\'{\"msg\":\"unexpected error\",\"code\":500,\"data\":null,\"sdk_error_code\":0}\\''), file: /tmp/tmp_wn75fiy/tmpoulqz614\n",
      "\u001b[1;38;5;196mCOMET ERROR:\u001b[0m File upload failed: ValueError('Uploading file failed (500) with max retries: 4 on url \\'https://www.comet.com/clientlib/asset/upload\\': b\\'{\"msg\":\"unexpected error\",\"code\":500,\"data\":null,\"sdk_error_code\":0}\\''), file: /tmp/tmp_wn75fiy/tmpm201upa1\n"
     ]
    },
    {
     "name": "stdout",
     "output_type": "stream",
     "text": [
      "Validation loss decreased (0.007698 --> 0.007546).  Saving model ...\n",
      "Epoch: 55/400... Loss: 0.002305... Val Loss: 0.007546\n"
     ]
    },
    {
     "name": "stderr",
     "output_type": "stream",
     "text": [
      "\u001b[1;38;5;196mCOMET ERROR:\u001b[0m File upload failed: ValueError('Uploading file failed (500) with max retries: 4 on url \\'https://www.comet.com/clientlib/asset/upload\\': b\\'{\"msg\":\"unexpected error\",\"code\":500,\"data\":null,\"sdk_error_code\":0}\\''), file: /tmp/tmp_wn75fiy/tmpagu2ehvq\n",
      "\u001b[1;38;5;196mCOMET ERROR:\u001b[0m File upload failed: ValueError('Uploading file failed (500) with max retries: 4 on url \\'https://www.comet.com/clientlib/asset/upload\\': b\\'{\"msg\":\"unexpected error\",\"code\":500,\"data\":null,\"sdk_error_code\":0}\\''), file: /tmp/tmp_wn75fiy/tmpy4vlixln\n",
      "\u001b[1;38;5;196mCOMET ERROR:\u001b[0m File upload failed: ValueError('Uploading file failed (500) with max retries: 4 on url \\'https://www.comet.com/clientlib/asset/upload\\': b\\'{\"msg\":\"unexpected error\",\"code\":500,\"data\":null,\"sdk_error_code\":0}\\''), file: /tmp/tmp_wn75fiy/tmp2npj70zj\n",
      "\u001b[1;38;5;196mCOMET ERROR:\u001b[0m File upload failed: ValueError('Uploading file failed (500) with max retries: 4 on url \\'https://www.comet.com/clientlib/asset/upload\\': b\\'{\"msg\":\"unexpected error\",\"code\":500,\"data\":null,\"sdk_error_code\":0}\\''), file: /tmp/tmp_wn75fiy/tmpr_gvrkvl\n"
     ]
    },
    {
     "name": "stdout",
     "output_type": "stream",
     "text": [
      "Validation loss decreased (0.007546 --> 0.007246).  Saving model ...\n",
      "Epoch: 56/400... Loss: 0.005615... Val Loss: 0.007246\n"
     ]
    },
    {
     "name": "stderr",
     "output_type": "stream",
     "text": [
      "\u001b[1;38;5;196mCOMET ERROR:\u001b[0m File upload failed: ValueError('Uploading file failed (500) with max retries: 4 on url \\'https://www.comet.com/clientlib/asset/upload\\': b\\'{\"msg\":\"unexpected error\",\"code\":500,\"data\":null,\"sdk_error_code\":0}\\''), file: /tmp/tmp_wn75fiy/tmp0yvt4nyv\n",
      "\u001b[1;38;5;196mCOMET ERROR:\u001b[0m File upload failed: ValueError('Uploading file failed (500) with max retries: 4 on url \\'https://www.comet.com/clientlib/asset/upload\\': b\\'{\"msg\":\"unexpected error\",\"code\":500,\"data\":null,\"sdk_error_code\":0}\\''), file: /tmp/tmp_wn75fiy/tmptcuasjku\n"
     ]
    },
    {
     "name": "stdout",
     "output_type": "stream",
     "text": [
      "Validation loss decreased (0.007246 --> 0.007072).  Saving model ...\n",
      "Epoch: 57/400... Loss: 0.003358... Val Loss: 0.007072\n"
     ]
    },
    {
     "name": "stderr",
     "output_type": "stream",
     "text": [
      "\u001b[1;38;5;196mCOMET ERROR:\u001b[0m File upload failed: ValueError('Uploading file failed (500) with max retries: 4 on url \\'https://www.comet.com/clientlib/asset/upload\\': b\\'{\"msg\":\"unexpected error\",\"code\":500,\"data\":null,\"sdk_error_code\":0}\\''), file: /tmp/tmp_wn75fiy/tmpzo030dcb\n"
     ]
    },
    {
     "name": "stdout",
     "output_type": "stream",
     "text": [
      "Validation loss decreased (0.007072 --> 0.006741).  Saving model ...\n",
      "Epoch: 58/400... Loss: 0.004240... Val Loss: 0.006741\n"
     ]
    },
    {
     "name": "stderr",
     "output_type": "stream",
     "text": [
      "\u001b[1;38;5;196mCOMET ERROR:\u001b[0m File upload failed: ValueError('Uploading file failed (500) with max retries: 4 on url \\'https://www.comet.com/clientlib/asset/upload\\': b\\'{\"msg\":\"unexpected error\",\"code\":500,\"data\":null,\"sdk_error_code\":0}\\''), file: /tmp/tmp_wn75fiy/tmpikawlmmb\n",
      "\u001b[1;38;5;196mCOMET ERROR:\u001b[0m File upload failed: ValueError('Uploading file failed (500) with max retries: 4 on url \\'https://www.comet.com/clientlib/asset/upload\\': b\\'{\"msg\":\"unexpected error\",\"code\":500,\"data\":null,\"sdk_error_code\":0}\\''), file: /tmp/tmp_wn75fiy/tmpsr64lhez\n"
     ]
    },
    {
     "name": "stdout",
     "output_type": "stream",
     "text": [
      "Validation loss decreased (0.006741 --> 0.006615).  Saving model ...\n",
      "Epoch: 59/400... Loss: 0.000485... Val Loss: 0.006615\n"
     ]
    },
    {
     "name": "stderr",
     "output_type": "stream",
     "text": [
      "\u001b[1;38;5;196mCOMET ERROR:\u001b[0m File upload failed: ValueError('Uploading file failed (500) with max retries: 4 on url \\'https://www.comet.com/clientlib/asset/upload\\': b\\'{\"msg\":\"unexpected error\",\"code\":500,\"data\":null,\"sdk_error_code\":0}\\''), file: /tmp/tmp_wn75fiy/tmpj_53jhcf\n"
     ]
    },
    {
     "name": "stdout",
     "output_type": "stream",
     "text": [
      "Validation loss decreased (0.006615 --> 0.006375).  Saving model ...\n",
      "Epoch: 60/400... Loss: 0.005264... Val Loss: 0.006375\n"
     ]
    },
    {
     "name": "stderr",
     "output_type": "stream",
     "text": [
      "\u001b[1;38;5;196mCOMET ERROR:\u001b[0m File upload failed: ValueError('Uploading file failed (500) with max retries: 4 on url \\'https://www.comet.com/clientlib/asset/upload\\': b\\'{\"msg\":\"unexpected error\",\"code\":500,\"data\":null,\"sdk_error_code\":0}\\''), file: /tmp/tmp_wn75fiy/tmpxhdqk733\n",
      "\u001b[1;38;5;196mCOMET ERROR:\u001b[0m File upload failed: ValueError('Uploading file failed (500) with max retries: 4 on url \\'https://www.comet.com/clientlib/asset/upload\\': b\\'{\"msg\":\"unexpected error\",\"code\":500,\"data\":null,\"sdk_error_code\":0}\\''), file: /tmp/tmp_wn75fiy/tmp5o95ec_2\n",
      "\u001b[1;38;5;196mCOMET ERROR:\u001b[0m File upload failed: ValueError('Uploading file failed (500) with max retries: 4 on url \\'https://www.comet.com/clientlib/asset/upload\\': b\\'{\"msg\":\"unexpected error\",\"code\":500,\"data\":null,\"sdk_error_code\":0}\\''), file: /tmp/tmp_wn75fiy/tmp2v728c8d\n"
     ]
    },
    {
     "name": "stdout",
     "output_type": "stream",
     "text": [
      "Validation loss decreased (0.006375 --> 0.006345).  Saving model ...\n",
      "Epoch: 61/400... Loss: 0.003301... Val Loss: 0.006345\n"
     ]
    },
    {
     "name": "stderr",
     "output_type": "stream",
     "text": [
      "\u001b[1;38;5;196mCOMET ERROR:\u001b[0m File upload failed: ValueError('Uploading file failed (500) with max retries: 4 on url \\'https://www.comet.com/clientlib/asset/upload\\': b\\'{\"msg\":\"unexpected error\",\"code\":500,\"data\":null,\"sdk_error_code\":0}\\''), file: /tmp/tmp_wn75fiy/tmp3p4ega7x\n"
     ]
    },
    {
     "name": "stdout",
     "output_type": "stream",
     "text": [
      "Validation loss decreased (0.006345 --> 0.006166).  Saving model ...\n",
      "Epoch: 62/400... Loss: 0.015519... Val Loss: 0.006166\n"
     ]
    },
    {
     "name": "stderr",
     "output_type": "stream",
     "text": [
      "\u001b[1;38;5;196mCOMET ERROR:\u001b[0m File upload failed: ValueError('Uploading file failed (500) with max retries: 4 on url \\'https://www.comet.com/clientlib/asset/upload\\': b\\'{\"msg\":\"unexpected error\",\"code\":500,\"data\":null,\"sdk_error_code\":0}\\''), file: /tmp/tmp_wn75fiy/tmp3561du4o\n",
      "\u001b[1;38;5;196mCOMET ERROR:\u001b[0m File upload failed: ValueError('Uploading file failed (500) with max retries: 4 on url \\'https://www.comet.com/clientlib/asset/upload\\': b\\'{\"msg\":\"unexpected error\",\"code\":500,\"data\":null,\"sdk_error_code\":0}\\''), file: /tmp/tmp_wn75fiy/tmp2lblgsp3\n"
     ]
    },
    {
     "name": "stdout",
     "output_type": "stream",
     "text": [
      "Epoch: 63/400... Loss: 0.005399... Val Loss: 0.006167\n"
     ]
    },
    {
     "name": "stderr",
     "output_type": "stream",
     "text": [
      "\u001b[1;38;5;196mCOMET ERROR:\u001b[0m File upload failed: ValueError('Uploading file failed (500) with max retries: 4 on url \\'https://www.comet.com/clientlib/asset/upload\\': b\\'{\"msg\":\"unexpected error\",\"code\":500,\"data\":null,\"sdk_error_code\":0}\\''), file: /tmp/tmp_wn75fiy/tmppfgdg39e\n",
      "\u001b[1;38;5;196mCOMET ERROR:\u001b[0m File upload failed: ValueError('Uploading file failed (500) with max retries: 4 on url \\'https://www.comet.com/clientlib/asset/upload\\': b\\'{\"msg\":\"unexpected error\",\"code\":500,\"data\":null,\"sdk_error_code\":0}\\''), file: /tmp/tmp_wn75fiy/tmpdh0_90vc\n"
     ]
    },
    {
     "name": "stdout",
     "output_type": "stream",
     "text": [
      "Validation loss decreased (0.006166 --> 0.006137).  Saving model ...\n",
      "Epoch: 64/400... Loss: 0.001326... Val Loss: 0.006137\n",
      "Validation loss decreased (0.006137 --> 0.005882).  Saving model ...\n",
      "Epoch: 65/400... Loss: 0.013648... Val Loss: 0.005882\n"
     ]
    },
    {
     "name": "stderr",
     "output_type": "stream",
     "text": [
      "\u001b[1;38;5;196mCOMET ERROR:\u001b[0m File upload failed: ValueError('Uploading file failed (500) with max retries: 4 on url \\'https://www.comet.com/clientlib/asset/upload\\': b\\'{\"msg\":\"unexpected error\",\"code\":500,\"data\":null,\"sdk_error_code\":0}\\''), file: /tmp/tmp_wn75fiy/tmpnsla6c6d\n",
      "\u001b[1;38;5;196mCOMET ERROR:\u001b[0m File upload failed: ValueError('Uploading file failed (500) with max retries: 4 on url \\'https://www.comet.com/clientlib/asset/upload\\': b\\'{\"msg\":\"unexpected error\",\"code\":500,\"data\":null,\"sdk_error_code\":0}\\''), file: /tmp/tmp_wn75fiy/tmpdbk0wv19\n"
     ]
    },
    {
     "name": "stdout",
     "output_type": "stream",
     "text": [
      "Validation loss decreased (0.005882 --> 0.005674).  Saving model ...\n",
      "Epoch: 66/400... Loss: 0.010761... Val Loss: 0.005674\n"
     ]
    },
    {
     "name": "stderr",
     "output_type": "stream",
     "text": [
      "\u001b[1;38;5;196mCOMET ERROR:\u001b[0m File upload failed: ValueError('Uploading file failed (500) with max retries: 4 on url \\'https://www.comet.com/clientlib/asset/upload\\': b\\'{\"msg\":\"unexpected error\",\"code\":500,\"data\":null,\"sdk_error_code\":0}\\''), file: /tmp/tmp_wn75fiy/tmpofppau8z\n",
      "\u001b[1;38;5;196mCOMET ERROR:\u001b[0m File upload failed: ValueError('Uploading file failed (500) with max retries: 4 on url \\'https://www.comet.com/clientlib/asset/upload\\': b\\'{\"msg\":\"unexpected error\",\"code\":500,\"data\":null,\"sdk_error_code\":0}\\''), file: /tmp/tmp_wn75fiy/tmpbgk42yxy\n"
     ]
    },
    {
     "name": "stdout",
     "output_type": "stream",
     "text": [
      "Validation loss decreased (0.005674 --> 0.005632).  Saving model ...\n",
      "Epoch: 67/400... Loss: 0.001091... Val Loss: 0.005632\n"
     ]
    },
    {
     "name": "stderr",
     "output_type": "stream",
     "text": [
      "\u001b[1;38;5;196mCOMET ERROR:\u001b[0m File upload failed: ValueError('Uploading file failed (500) with max retries: 4 on url \\'https://www.comet.com/clientlib/asset/upload\\': b\\'{\"msg\":\"unexpected error\",\"code\":500,\"data\":null,\"sdk_error_code\":0}\\''), file: /tmp/tmp_wn75fiy/tmp8g_ne6no\n",
      "\u001b[1;38;5;196mCOMET ERROR:\u001b[0m File upload failed: ValueError('Uploading file failed (500) with max retries: 4 on url \\'https://www.comet.com/clientlib/asset/upload\\': b\\'{\"msg\":\"unexpected error\",\"code\":500,\"data\":null,\"sdk_error_code\":0}\\''), file: /tmp/tmp_wn75fiy/tmplup107nr\n"
     ]
    },
    {
     "name": "stdout",
     "output_type": "stream",
     "text": [
      "Validation loss decreased (0.005632 --> 0.005501).  Saving model ...\n",
      "Epoch: 68/400... Loss: 0.001787... Val Loss: 0.005501\n"
     ]
    },
    {
     "name": "stderr",
     "output_type": "stream",
     "text": [
      "\u001b[1;38;5;196mCOMET ERROR:\u001b[0m File upload failed: ValueError('Uploading file failed (500) with max retries: 4 on url \\'https://www.comet.com/clientlib/asset/upload\\': b\\'{\"msg\":\"unexpected error\",\"code\":500,\"data\":null,\"sdk_error_code\":0}\\''), file: /tmp/tmp_wn75fiy/tmp7oh9tcu3\n",
      "\u001b[1;38;5;196mCOMET ERROR:\u001b[0m File upload failed: ValueError('Uploading file failed (500) with max retries: 4 on url \\'https://www.comet.com/clientlib/asset/upload\\': b\\'{\"msg\":\"unexpected error\",\"code\":500,\"data\":null,\"sdk_error_code\":0}\\''), file: /tmp/tmp_wn75fiy/tmpdo362bz2\n"
     ]
    },
    {
     "name": "stdout",
     "output_type": "stream",
     "text": [
      "Validation loss decreased (0.005501 --> 0.005345).  Saving model ...\n",
      "Epoch: 69/400... Loss: 0.001552... Val Loss: 0.005345\n"
     ]
    },
    {
     "name": "stderr",
     "output_type": "stream",
     "text": [
      "\u001b[1;38;5;196mCOMET ERROR:\u001b[0m File upload failed: ValueError('Uploading file failed (500) with max retries: 4 on url \\'https://www.comet.com/clientlib/asset/upload\\': b\\'{\"msg\":\"unexpected error\",\"code\":500,\"data\":null,\"sdk_error_code\":0}\\''), file: /tmp/tmp_wn75fiy/tmpn2v26qia\n",
      "\u001b[1;38;5;196mCOMET ERROR:\u001b[0m File upload failed: ValueError('Uploading file failed (500) with max retries: 4 on url \\'https://www.comet.com/clientlib/asset/upload\\': b\\'{\"msg\":\"unexpected error\",\"code\":500,\"data\":null,\"sdk_error_code\":0}\\''), file: /tmp/tmp_wn75fiy/tmpvwuc_s_w\n",
      "\u001b[1;38;5;196mCOMET ERROR:\u001b[0m File upload failed: ValueError('Uploading file failed (500) with max retries: 4 on url \\'https://www.comet.com/clientlib/asset/upload\\': b\\'{\"msg\":\"unexpected error\",\"code\":500,\"data\":null,\"sdk_error_code\":0}\\''), file: /tmp/tmp_wn75fiy/tmpt7b0d9c5\n",
      "\u001b[1;38;5;196mCOMET ERROR:\u001b[0m File upload failed: ValueError('Uploading file failed (500) with max retries: 4 on url \\'https://www.comet.com/clientlib/asset/upload\\': b\\'{\"msg\":\"unexpected error\",\"code\":500,\"data\":null,\"sdk_error_code\":0}\\''), file: /tmp/tmp_wn75fiy/tmpxdmv00u3\n"
     ]
    },
    {
     "name": "stdout",
     "output_type": "stream",
     "text": [
      "Validation loss decreased (0.005345 --> 0.005304).  Saving model ...\n",
      "Epoch: 70/400... Loss: 0.011597... Val Loss: 0.005304\n",
      "Validation loss decreased (0.005304 --> 0.005189).  Saving model ...\n",
      "Epoch: 71/400... Loss: 0.002343... Val Loss: 0.005189\n"
     ]
    },
    {
     "name": "stderr",
     "output_type": "stream",
     "text": [
      "\u001b[1;38;5;196mCOMET ERROR:\u001b[0m File upload failed: ValueError('Uploading file failed (500) with max retries: 4 on url \\'https://www.comet.com/clientlib/asset/upload\\': b\\'{\"msg\":\"unexpected error\",\"code\":500,\"data\":null,\"sdk_error_code\":0}\\''), file: /tmp/tmp_wn75fiy/tmpqjlmmukz\n",
      "\u001b[1;38;5;196mCOMET ERROR:\u001b[0m File upload failed: ValueError('Uploading file failed (500) with max retries: 4 on url \\'https://www.comet.com/clientlib/asset/upload\\': b\\'{\"msg\":\"unexpected error\",\"code\":500,\"data\":null,\"sdk_error_code\":0}\\''), file: /tmp/tmp_wn75fiy/tmpodelnj29\n"
     ]
    },
    {
     "name": "stdout",
     "output_type": "stream",
     "text": [
      "Validation loss decreased (0.005189 --> 0.005126).  Saving model ...\n",
      "Epoch: 72/400... Loss: 0.010451... Val Loss: 0.005126\n"
     ]
    },
    {
     "name": "stderr",
     "output_type": "stream",
     "text": [
      "\u001b[1;38;5;196mCOMET ERROR:\u001b[0m File upload failed: ValueError('Uploading file failed (500) with max retries: 4 on url \\'https://www.comet.com/clientlib/asset/upload\\': b\\'{\"msg\":\"unexpected error\",\"code\":500,\"data\":null,\"sdk_error_code\":0}\\''), file: /tmp/tmp_wn75fiy/tmp9yxy7n56\n",
      "\u001b[1;38;5;196mCOMET ERROR:\u001b[0m File upload failed: ValueError('Uploading file failed (500) with max retries: 4 on url \\'https://www.comet.com/clientlib/asset/upload\\': b\\'{\"msg\":\"unexpected error\",\"code\":500,\"data\":null,\"sdk_error_code\":0}\\''), file: /tmp/tmp_wn75fiy/tmpmhaf0ppk\n",
      "\u001b[1;38;5;196mCOMET ERROR:\u001b[0m File upload failed: ValueError('Uploading file failed (500) with max retries: 4 on url \\'https://www.comet.com/clientlib/asset/upload\\': b\\'{\"msg\":\"unexpected error\",\"code\":500,\"data\":null,\"sdk_error_code\":0}\\''), file: /tmp/tmp_wn75fiy/tmpyrsg7kvw\n",
      "\u001b[1;38;5;196mCOMET ERROR:\u001b[0m File upload failed: ValueError('Uploading file failed (500) with max retries: 4 on url \\'https://www.comet.com/clientlib/asset/upload\\': b\\'{\"msg\":\"unexpected error\",\"code\":500,\"data\":null,\"sdk_error_code\":0}\\''), file: /tmp/tmp_wn75fiy/tmp_7o9i9us\n"
     ]
    },
    {
     "name": "stdout",
     "output_type": "stream",
     "text": [
      "Validation loss decreased (0.005126 --> 0.005011).  Saving model ...\n",
      "Epoch: 73/400... Loss: 0.013180... Val Loss: 0.005011\n"
     ]
    },
    {
     "name": "stderr",
     "output_type": "stream",
     "text": [
      "\u001b[1;38;5;196mCOMET ERROR:\u001b[0m File upload failed: ValueError('Uploading file failed (500) with max retries: 4 on url \\'https://www.comet.com/clientlib/asset/upload\\': b\\'{\"msg\":\"unexpected error\",\"code\":500,\"data\":null,\"sdk_error_code\":0}\\''), file: /tmp/tmp_wn75fiy/tmpam3ljzzp\n",
      "\u001b[1;38;5;196mCOMET ERROR:\u001b[0m File upload failed: ValueError('Uploading file failed (500) with max retries: 4 on url \\'https://www.comet.com/clientlib/asset/upload\\': b\\'{\"msg\":\"unexpected error\",\"code\":500,\"data\":null,\"sdk_error_code\":0}\\''), file: /tmp/tmp_wn75fiy/tmpjxewhtld\n"
     ]
    },
    {
     "name": "stdout",
     "output_type": "stream",
     "text": [
      "Validation loss decreased (0.005011 --> 0.004918).  Saving model ...\n",
      "Epoch: 74/400... Loss: 0.063640... Val Loss: 0.004918\n"
     ]
    },
    {
     "name": "stderr",
     "output_type": "stream",
     "text": [
      "\u001b[1;38;5;196mCOMET ERROR:\u001b[0m File upload failed: ValueError('Uploading file failed (500) with max retries: 4 on url \\'https://www.comet.com/clientlib/asset/upload\\': b\\'{\"msg\":\"unexpected error\",\"code\":500,\"data\":null,\"sdk_error_code\":0}\\''), file: /tmp/tmp_wn75fiy/tmpf6elul6p\n",
      "\u001b[1;38;5;196mCOMET ERROR:\u001b[0m File upload failed: ValueError('Uploading file failed (500) with max retries: 4 on url \\'https://www.comet.com/clientlib/asset/upload\\': b\\'{\"msg\":\"unexpected error\",\"code\":500,\"data\":null,\"sdk_error_code\":0}\\''), file: /tmp/tmp_wn75fiy/tmppaim_3no\n"
     ]
    },
    {
     "name": "stdout",
     "output_type": "stream",
     "text": [
      "Validation loss decreased (0.004918 --> 0.004818).  Saving model ...\n",
      "Epoch: 75/400... Loss: 0.001492... Val Loss: 0.004818\n",
      "Validation loss decreased (0.004818 --> 0.004676).  Saving model ...\n",
      "Epoch: 76/400... Loss: 0.000372... Val Loss: 0.004676\n"
     ]
    },
    {
     "name": "stderr",
     "output_type": "stream",
     "text": [
      "\u001b[1;38;5;196mCOMET ERROR:\u001b[0m File upload failed: ValueError('Uploading file failed (500) with max retries: 4 on url \\'https://www.comet.com/clientlib/asset/upload\\': b\\'{\"msg\":\"unexpected error\",\"code\":500,\"data\":null,\"sdk_error_code\":0}\\''), file: /tmp/tmp_wn75fiy/tmpya71a2m4\n",
      "\u001b[1;38;5;196mCOMET ERROR:\u001b[0m File upload failed: ValueError('Uploading file failed (500) with max retries: 4 on url \\'https://www.comet.com/clientlib/asset/upload\\': b\\'{\"msg\":\"unexpected error\",\"code\":500,\"data\":null,\"sdk_error_code\":0}\\''), file: /tmp/tmp_wn75fiy/tmpntp__gxp\n"
     ]
    },
    {
     "name": "stdout",
     "output_type": "stream",
     "text": [
      "Validation loss decreased (0.004676 --> 0.004583).  Saving model ...\n",
      "Epoch: 77/400... Loss: 0.001627... Val Loss: 0.004583\n"
     ]
    },
    {
     "name": "stderr",
     "output_type": "stream",
     "text": [
      "\u001b[1;38;5;196mCOMET ERROR:\u001b[0m File upload failed: ValueError('Uploading file failed (500) with max retries: 4 on url \\'https://www.comet.com/clientlib/asset/upload\\': b\\'{\"msg\":\"unexpected error\",\"code\":500,\"data\":null,\"sdk_error_code\":0}\\''), file: /tmp/tmp_wn75fiy/tmp3l_gc189\n",
      "\u001b[1;38;5;196mCOMET ERROR:\u001b[0m File upload failed: ValueError('Uploading file failed (500) with max retries: 4 on url \\'https://www.comet.com/clientlib/asset/upload\\': b\\'{\"msg\":\"unexpected error\",\"code\":500,\"data\":null,\"sdk_error_code\":0}\\''), file: /tmp/tmp_wn75fiy/tmp1dy3y_7h\n"
     ]
    },
    {
     "name": "stdout",
     "output_type": "stream",
     "text": [
      "Epoch: 78/400... Loss: 0.002737... Val Loss: 0.004618\n"
     ]
    },
    {
     "name": "stderr",
     "output_type": "stream",
     "text": [
      "\u001b[1;38;5;196mCOMET ERROR:\u001b[0m File upload failed: ValueError('Uploading file failed (500) with max retries: 4 on url \\'https://www.comet.com/clientlib/asset/upload\\': b\\'{\"msg\":\"unexpected error\",\"code\":500,\"data\":null,\"sdk_error_code\":0}\\''), file: /tmp/tmp_wn75fiy/tmp2lagnte3\n",
      "\u001b[1;38;5;196mCOMET ERROR:\u001b[0m File upload failed: ValueError('Uploading file failed (500) with max retries: 4 on url \\'https://www.comet.com/clientlib/asset/upload\\': b\\'{\"msg\":\"unexpected error\",\"code\":500,\"data\":null,\"sdk_error_code\":0}\\''), file: /tmp/tmp_wn75fiy/tmpltqa12la\n"
     ]
    },
    {
     "name": "stdout",
     "output_type": "stream",
     "text": [
      "Validation loss decreased (0.004583 --> 0.004454).  Saving model ...\n",
      "Epoch: 79/400... Loss: 0.015668... Val Loss: 0.004454\n",
      "Validation loss decreased (0.004454 --> 0.004345).  Saving model ...\n",
      "Epoch: 80/400... Loss: 0.000808... Val Loss: 0.004345\n"
     ]
    },
    {
     "name": "stderr",
     "output_type": "stream",
     "text": [
      "\u001b[1;38;5;196mCOMET ERROR:\u001b[0m File upload failed: ValueError('Uploading file failed (500) with max retries: 4 on url \\'https://www.comet.com/clientlib/asset/upload\\': b\\'{\"msg\":\"unexpected error\",\"code\":500,\"data\":null,\"sdk_error_code\":0}\\''), file: /tmp/tmp_wn75fiy/tmptlf90boi\n",
      "\u001b[1;38;5;196mCOMET ERROR:\u001b[0m File upload failed: ValueError('Uploading file failed (500) with max retries: 4 on url \\'https://www.comet.com/clientlib/asset/upload\\': b\\'{\"msg\":\"unexpected error\",\"code\":500,\"data\":null,\"sdk_error_code\":0}\\''), file: /tmp/tmp_wn75fiy/tmp3bnor8zc\n",
      "\u001b[1;38;5;196mCOMET ERROR:\u001b[0m File upload failed: ValueError('Uploading file failed (500) with max retries: 4 on url \\'https://www.comet.com/clientlib/asset/upload\\': b\\'{\"msg\":\"unexpected error\",\"code\":500,\"data\":null,\"sdk_error_code\":0}\\''), file: /tmp/tmp_wn75fiy/tmpkf99l8_k\n",
      "\u001b[1;38;5;196mCOMET ERROR:\u001b[0m File upload failed: ValueError('Uploading file failed (500) with max retries: 4 on url \\'https://www.comet.com/clientlib/asset/upload\\': b\\'{\"msg\":\"unexpected error\",\"code\":500,\"data\":null,\"sdk_error_code\":0}\\''), file: /tmp/tmp_wn75fiy/tmpjg0pw6bk\n"
     ]
    },
    {
     "name": "stdout",
     "output_type": "stream",
     "text": [
      "Validation loss decreased (0.004345 --> 0.004183).  Saving model ...\n",
      "Epoch: 81/400... Loss: 0.001674... Val Loss: 0.004183\n"
     ]
    },
    {
     "name": "stderr",
     "output_type": "stream",
     "text": [
      "\u001b[1;38;5;196mCOMET ERROR:\u001b[0m File upload failed: ValueError('Uploading file failed (500) with max retries: 4 on url \\'https://www.comet.com/clientlib/asset/upload\\': b\\'{\"msg\":\"unexpected error\",\"code\":500,\"data\":null,\"sdk_error_code\":0}\\''), file: /tmp/tmp_wn75fiy/tmpaq7dhnln\n",
      "\u001b[1;38;5;196mCOMET ERROR:\u001b[0m File upload failed: ValueError('Uploading file failed (500) with max retries: 4 on url \\'https://www.comet.com/clientlib/asset/upload\\': b\\'{\"msg\":\"unexpected error\",\"code\":500,\"data\":null,\"sdk_error_code\":0}\\''), file: /tmp/tmp_wn75fiy/tmp3usamx_1\n"
     ]
    },
    {
     "name": "stdout",
     "output_type": "stream",
     "text": [
      "Epoch: 82/400... Loss: 0.004672... Val Loss: 0.004280\n",
      "Validation loss decreased (0.004183 --> 0.004034).  Saving model ...\n",
      "Epoch: 83/400... Loss: 0.002280... Val Loss: 0.004034\n",
      "Validation loss decreased (0.004034 --> 0.004025).  Saving model ...\n",
      "Epoch: 84/400... Loss: 0.002728... Val Loss: 0.004025\n"
     ]
    },
    {
     "name": "stderr",
     "output_type": "stream",
     "text": [
      "\u001b[1;38;5;196mCOMET ERROR:\u001b[0m File upload failed: ValueError('Uploading file failed (500) with max retries: 4 on url \\'https://www.comet.com/clientlib/asset/upload\\': b\\'{\"msg\":\"unexpected error\",\"code\":500,\"data\":null,\"sdk_error_code\":0}\\''), file: /tmp/tmp_wn75fiy/tmpve7sd_rl\n",
      "\u001b[1;38;5;196mCOMET ERROR:\u001b[0m File upload failed: ValueError('Uploading file failed (500) with max retries: 4 on url \\'https://www.comet.com/clientlib/asset/upload\\': b\\'{\"msg\":\"unexpected error\",\"code\":500,\"data\":null,\"sdk_error_code\":0}\\''), file: /tmp/tmp_wn75fiy/tmpxlbpbmho\n",
      "\u001b[1;38;5;196mCOMET ERROR:\u001b[0m File upload failed: ValueError('Uploading file failed (500) with max retries: 4 on url \\'https://www.comet.com/clientlib/asset/upload\\': b\\'{\"msg\":\"unexpected error\",\"code\":500,\"data\":null,\"sdk_error_code\":0}\\''), file: /tmp/tmp_wn75fiy/tmp1gogvia4\n",
      "\u001b[1;38;5;196mCOMET ERROR:\u001b[0m File upload failed: ValueError('Uploading file failed (500) with max retries: 4 on url \\'https://www.comet.com/clientlib/asset/upload\\': b\\'{\"msg\":\"unexpected error\",\"code\":500,\"data\":null,\"sdk_error_code\":0}\\''), file: /tmp/tmp_wn75fiy/tmp0xugs0bx\n"
     ]
    },
    {
     "name": "stdout",
     "output_type": "stream",
     "text": [
      "Validation loss decreased (0.004025 --> 0.003836).  Saving model ...\n",
      "Epoch: 85/400... Loss: 0.027600... Val Loss: 0.003836\n",
      "Validation loss decreased (0.003836 --> 0.003759).  Saving model ...\n",
      "Epoch: 86/400... Loss: 0.001188... Val Loss: 0.003759\n"
     ]
    },
    {
     "name": "stderr",
     "output_type": "stream",
     "text": [
      "\u001b[1;38;5;196mCOMET ERROR:\u001b[0m File upload failed: ValueError('Uploading file failed (500) with max retries: 4 on url \\'https://www.comet.com/clientlib/asset/upload\\': b\\'{\"msg\":\"unexpected error\",\"code\":500,\"data\":null,\"sdk_error_code\":0}\\''), file: /tmp/tmp_wn75fiy/tmp0v25oq_5\n",
      "\u001b[1;38;5;196mCOMET ERROR:\u001b[0m File upload failed: ValueError('Uploading file failed (500) with max retries: 4 on url \\'https://www.comet.com/clientlib/asset/upload\\': b\\'{\"msg\":\"unexpected error\",\"code\":500,\"data\":null,\"sdk_error_code\":0}\\''), file: /tmp/tmp_wn75fiy/tmpe5typjzk\n"
     ]
    },
    {
     "name": "stdout",
     "output_type": "stream",
     "text": [
      "Validation loss decreased (0.003759 --> 0.003565).  Saving model ...\n",
      "Epoch: 87/400... Loss: 0.003512... Val Loss: 0.003565\n"
     ]
    },
    {
     "name": "stderr",
     "output_type": "stream",
     "text": [
      "\u001b[1;38;5;196mCOMET ERROR:\u001b[0m File upload failed: ValueError('Uploading file failed (500) with max retries: 4 on url \\'https://www.comet.com/clientlib/asset/upload\\': b\\'{\"msg\":\"unexpected error\",\"code\":500,\"data\":null,\"sdk_error_code\":0}\\''), file: /tmp/tmp_wn75fiy/tmp1ro2pw72\n",
      "\u001b[1;38;5;196mCOMET ERROR:\u001b[0m File upload failed: ValueError('Uploading file failed (500) with max retries: 4 on url \\'https://www.comet.com/clientlib/asset/upload\\': b\\'{\"msg\":\"unexpected error\",\"code\":500,\"data\":null,\"sdk_error_code\":0}\\''), file: /tmp/tmp_wn75fiy/tmprnm0x9eq\n",
      "\u001b[1;38;5;196mCOMET ERROR:\u001b[0m File upload failed: ValueError('Uploading file failed (500) with max retries: 4 on url \\'https://www.comet.com/clientlib/asset/upload\\': b\\'{\"msg\":\"unexpected error\",\"code\":500,\"data\":null,\"sdk_error_code\":0}\\''), file: /tmp/tmp_wn75fiy/tmpzkn0i1yn\n",
      "\u001b[1;38;5;196mCOMET ERROR:\u001b[0m File upload failed: ValueError('Uploading file failed (500) with max retries: 4 on url \\'https://www.comet.com/clientlib/asset/upload\\': b\\'{\"msg\":\"unexpected error\",\"code\":500,\"data\":null,\"sdk_error_code\":0}\\''), file: /tmp/tmp_wn75fiy/tmpik08x0ob\n"
     ]
    },
    {
     "name": "stdout",
     "output_type": "stream",
     "text": [
      "Validation loss decreased (0.003565 --> 0.003505).  Saving model ...\n",
      "Epoch: 88/400... Loss: 0.001457... Val Loss: 0.003505\n"
     ]
    },
    {
     "name": "stderr",
     "output_type": "stream",
     "text": [
      "\u001b[1;38;5;196mCOMET ERROR:\u001b[0m File upload failed: ValueError('Uploading file failed (500) with max retries: 4 on url \\'https://www.comet.com/clientlib/asset/upload\\': b\\'{\"msg\":\"unexpected error\",\"code\":500,\"data\":null,\"sdk_error_code\":0}\\''), file: /tmp/tmp_wn75fiy/tmpkoppgklm\n",
      "\u001b[1;38;5;196mCOMET ERROR:\u001b[0m File upload failed: ValueError('Uploading file failed (500) with max retries: 4 on url \\'https://www.comet.com/clientlib/asset/upload\\': b\\'{\"msg\":\"unexpected error\",\"code\":500,\"data\":null,\"sdk_error_code\":0}\\''), file: /tmp/tmp_wn75fiy/tmpkzmzkk7y\n"
     ]
    },
    {
     "name": "stdout",
     "output_type": "stream",
     "text": [
      "Validation loss decreased (0.003505 --> 0.003402).  Saving model ...\n",
      "Epoch: 89/400... Loss: 0.001774... Val Loss: 0.003402\n"
     ]
    },
    {
     "name": "stderr",
     "output_type": "stream",
     "text": [
      "\u001b[1;38;5;196mCOMET ERROR:\u001b[0m File upload failed: ValueError('Uploading file failed (500) with max retries: 4 on url \\'https://www.comet.com/clientlib/asset/upload\\': b\\'{\"msg\":\"unexpected error\",\"code\":500,\"data\":null,\"sdk_error_code\":0}\\''), file: /tmp/tmp_wn75fiy/tmpvdeafjvq\n",
      "\u001b[1;38;5;196mCOMET ERROR:\u001b[0m File upload failed: ValueError('Uploading file failed (500) with max retries: 4 on url \\'https://www.comet.com/clientlib/asset/upload\\': b\\'{\"msg\":\"unexpected error\",\"code\":500,\"data\":null,\"sdk_error_code\":0}\\''), file: /tmp/tmp_wn75fiy/tmpbctm_r7e\n"
     ]
    },
    {
     "name": "stdout",
     "output_type": "stream",
     "text": [
      "Validation loss decreased (0.003402 --> 0.003314).  Saving model ...\n",
      "Epoch: 90/400... Loss: 0.001500... Val Loss: 0.003314\n"
     ]
    },
    {
     "name": "stderr",
     "output_type": "stream",
     "text": [
      "\u001b[1;38;5;196mCOMET ERROR:\u001b[0m File upload failed: ValueError('Uploading file failed (500) with max retries: 4 on url \\'https://www.comet.com/clientlib/asset/upload\\': b\\'{\"msg\":\"unexpected error\",\"code\":500,\"data\":null,\"sdk_error_code\":0}\\''), file: /tmp/tmp_wn75fiy/tmptobn8651\n",
      "\u001b[1;38;5;196mCOMET ERROR:\u001b[0m File upload failed: ValueError('Uploading file failed (500) with max retries: 4 on url \\'https://www.comet.com/clientlib/asset/upload\\': b\\'{\"msg\":\"unexpected error\",\"code\":500,\"data\":null,\"sdk_error_code\":0}\\''), file: /tmp/tmp_wn75fiy/tmpk0oigruj\n"
     ]
    },
    {
     "name": "stdout",
     "output_type": "stream",
     "text": [
      "Validation loss decreased (0.003314 --> 0.003214).  Saving model ...\n",
      "Epoch: 91/400... Loss: 0.000860... Val Loss: 0.003214\n"
     ]
    },
    {
     "name": "stderr",
     "output_type": "stream",
     "text": [
      "\u001b[1;38;5;196mCOMET ERROR:\u001b[0m File upload failed: ValueError('Uploading file failed (500) with max retries: 4 on url \\'https://www.comet.com/clientlib/asset/upload\\': b\\'{\"msg\":\"unexpected error\",\"code\":500,\"data\":null,\"sdk_error_code\":0}\\''), file: /tmp/tmp_wn75fiy/tmpi2qngy61\n",
      "\u001b[1;38;5;196mCOMET ERROR:\u001b[0m File upload failed: ValueError('Uploading file failed (500) with max retries: 4 on url \\'https://www.comet.com/clientlib/asset/upload\\': b\\'{\"msg\":\"unexpected error\",\"code\":500,\"data\":null,\"sdk_error_code\":0}\\''), file: /tmp/tmp_wn75fiy/tmpsg9rfx4q\n"
     ]
    },
    {
     "name": "stdout",
     "output_type": "stream",
     "text": [
      "Validation loss decreased (0.003214 --> 0.003120).  Saving model ...\n",
      "Epoch: 92/400... Loss: 0.000754... Val Loss: 0.003120\n",
      "Validation loss decreased (0.003120 --> 0.003065).  Saving model ...\n",
      "Epoch: 93/400... Loss: 0.022493... Val Loss: 0.003065\n"
     ]
    },
    {
     "name": "stderr",
     "output_type": "stream",
     "text": [
      "\u001b[1;38;5;196mCOMET ERROR:\u001b[0m File upload failed: ValueError('Uploading file failed (500) with max retries: 4 on url \\'https://www.comet.com/clientlib/asset/upload\\': b\\'{\"msg\":\"unexpected error\",\"code\":500,\"data\":null,\"sdk_error_code\":0}\\''), file: /tmp/tmp_wn75fiy/tmp8up_wc0o\n",
      "\u001b[1;38;5;196mCOMET ERROR:\u001b[0m File upload failed: ValueError('Uploading file failed (500) with max retries: 4 on url \\'https://www.comet.com/clientlib/asset/upload\\': b\\'{\"msg\":\"unexpected error\",\"code\":500,\"data\":null,\"sdk_error_code\":0}\\''), file: /tmp/tmp_wn75fiy/tmpeupo_b6y\n",
      "\u001b[1;38;5;196mCOMET ERROR:\u001b[0m File upload failed: ValueError('Uploading file failed (500) with max retries: 4 on url \\'https://www.comet.com/clientlib/asset/upload\\': b\\'{\"msg\":\"unexpected error\",\"code\":500,\"data\":null,\"sdk_error_code\":0}\\''), file: /tmp/tmp_wn75fiy/tmpueqhlurw\n",
      "\u001b[1;38;5;196mCOMET ERROR:\u001b[0m File upload failed: ValueError('Uploading file failed (500) with max retries: 4 on url \\'https://www.comet.com/clientlib/asset/upload\\': b\\'{\"msg\":\"unexpected error\",\"code\":500,\"data\":null,\"sdk_error_code\":0}\\''), file: /tmp/tmp_wn75fiy/tmpjdl249qd\n"
     ]
    },
    {
     "name": "stdout",
     "output_type": "stream",
     "text": [
      "Validation loss decreased (0.003065 --> 0.002879).  Saving model ...\n",
      "Epoch: 94/400... Loss: 0.004378... Val Loss: 0.002879\n"
     ]
    },
    {
     "name": "stderr",
     "output_type": "stream",
     "text": [
      "\u001b[1;38;5;196mCOMET ERROR:\u001b[0m File upload failed: ValueError('Uploading file failed (500) with max retries: 4 on url \\'https://www.comet.com/clientlib/asset/upload\\': b\\'{\"msg\":\"unexpected error\",\"code\":500,\"data\":null,\"sdk_error_code\":0}\\''), file: /tmp/tmp_wn75fiy/tmpyy0wvnq3\n",
      "\u001b[1;38;5;196mCOMET ERROR:\u001b[0m File upload failed: ValueError('Uploading file failed (500) with max retries: 4 on url \\'https://www.comet.com/clientlib/asset/upload\\': b\\'{\"msg\":\"unexpected error\",\"code\":500,\"data\":null,\"sdk_error_code\":0}\\''), file: /tmp/tmp_wn75fiy/tmpm_rczrmg\n"
     ]
    },
    {
     "name": "stdout",
     "output_type": "stream",
     "text": [
      "Validation loss decreased (0.002879 --> 0.002825).  Saving model ...\n",
      "Epoch: 95/400... Loss: 0.005121... Val Loss: 0.002825\n"
     ]
    },
    {
     "name": "stderr",
     "output_type": "stream",
     "text": [
      "\u001b[1;38;5;196mCOMET ERROR:\u001b[0m File upload failed: ValueError('Uploading file failed (500) with max retries: 4 on url \\'https://www.comet.com/clientlib/asset/upload\\': b\\'{\"msg\":\"unexpected error\",\"code\":500,\"data\":null,\"sdk_error_code\":0}\\''), file: /tmp/tmp_wn75fiy/tmpoutykf_c\n",
      "\u001b[1;38;5;196mCOMET ERROR:\u001b[0m File upload failed: ValueError('Uploading file failed (500) with max retries: 4 on url \\'https://www.comet.com/clientlib/asset/upload\\': b\\'{\"msg\":\"unexpected error\",\"code\":500,\"data\":null,\"sdk_error_code\":0}\\''), file: /tmp/tmp_wn75fiy/tmpqbw5204b\n"
     ]
    },
    {
     "name": "stdout",
     "output_type": "stream",
     "text": [
      "Validation loss decreased (0.002825 --> 0.002656).  Saving model ...\n",
      "Epoch: 96/400... Loss: 0.000560... Val Loss: 0.002656\n"
     ]
    },
    {
     "name": "stderr",
     "output_type": "stream",
     "text": [
      "\u001b[1;38;5;196mCOMET ERROR:\u001b[0m File upload failed: ValueError('Uploading file failed (500) with max retries: 4 on url \\'https://www.comet.com/clientlib/asset/upload\\': b\\'{\"msg\":\"unexpected error\",\"code\":500,\"data\":null,\"sdk_error_code\":0}\\''), file: /tmp/tmp_wn75fiy/tmpebzwv_9_\n",
      "\u001b[1;38;5;196mCOMET ERROR:\u001b[0m File upload failed: ValueError('Uploading file failed (500) with max retries: 4 on url \\'https://www.comet.com/clientlib/asset/upload\\': b\\'{\"msg\":\"unexpected error\",\"code\":500,\"data\":null,\"sdk_error_code\":0}\\''), file: /tmp/tmp_wn75fiy/tmps67hoc_h\n"
     ]
    },
    {
     "name": "stdout",
     "output_type": "stream",
     "text": [
      "Validation loss decreased (0.002656 --> 0.002626).  Saving model ...\n",
      "Epoch: 97/400... Loss: 0.000712... Val Loss: 0.002626\n"
     ]
    },
    {
     "name": "stderr",
     "output_type": "stream",
     "text": [
      "\u001b[1;38;5;196mCOMET ERROR:\u001b[0m File upload failed: ValueError('Uploading file failed (500) with max retries: 4 on url \\'https://www.comet.com/clientlib/asset/upload\\': b\\'{\"msg\":\"unexpected error\",\"code\":500,\"data\":null,\"sdk_error_code\":0}\\''), file: /tmp/tmp_wn75fiy/tmp694_8ho0\n",
      "\u001b[1;38;5;196mCOMET ERROR:\u001b[0m File upload failed: ValueError('Uploading file failed (500) with max retries: 4 on url \\'https://www.comet.com/clientlib/asset/upload\\': b\\'{\"msg\":\"unexpected error\",\"code\":500,\"data\":null,\"sdk_error_code\":0}\\''), file: /tmp/tmp_wn75fiy/tmp5p4efkfg\n"
     ]
    },
    {
     "name": "stdout",
     "output_type": "stream",
     "text": [
      "Epoch: 98/400... Loss: 0.002727... Val Loss: 0.002894\n",
      "Validation loss decreased (0.002626 --> 0.002375).  Saving model ...\n",
      "Epoch: 99/400... Loss: 0.001620... Val Loss: 0.002375\n"
     ]
    },
    {
     "name": "stderr",
     "output_type": "stream",
     "text": [
      "\u001b[1;38;5;196mCOMET ERROR:\u001b[0m File upload failed: ValueError('Uploading file failed (500) with max retries: 4 on url \\'https://www.comet.com/clientlib/asset/upload\\': b\\'{\"msg\":\"unexpected error\",\"code\":500,\"data\":null,\"sdk_error_code\":0}\\''), file: /tmp/tmp_wn75fiy/tmpfs9qw1k1\n",
      "\u001b[1;38;5;196mCOMET ERROR:\u001b[0m File upload failed: ValueError('Uploading file failed (500) with max retries: 4 on url \\'https://www.comet.com/clientlib/asset/upload\\': b\\'{\"msg\":\"unexpected error\",\"code\":500,\"data\":null,\"sdk_error_code\":0}\\''), file: /tmp/tmp_wn75fiy/tmp3h0mvafl\n"
     ]
    },
    {
     "name": "stdout",
     "output_type": "stream",
     "text": [
      "Validation loss decreased (0.002375 --> 0.002343).  Saving model ...\n",
      "Epoch: 100/400... Loss: 0.000449... Val Loss: 0.002343\n"
     ]
    },
    {
     "name": "stderr",
     "output_type": "stream",
     "text": [
      "\u001b[1;38;5;196mCOMET ERROR:\u001b[0m File upload failed: ValueError('Uploading file failed (500) with max retries: 4 on url \\'https://www.comet.com/clientlib/asset/upload\\': b\\'{\"msg\":\"unexpected error\",\"code\":500,\"data\":null,\"sdk_error_code\":0}\\''), file: /tmp/tmp_wn75fiy/tmpakk29xeh\n"
     ]
    },
    {
     "name": "stdout",
     "output_type": "stream",
     "text": [
      "Validation loss decreased (0.002343 --> 0.002333).  Saving model ...\n",
      "Epoch: 101/400... Loss: 0.000241... Val Loss: 0.002333\n"
     ]
    },
    {
     "name": "stderr",
     "output_type": "stream",
     "text": [
      "\u001b[1;38;5;196mCOMET ERROR:\u001b[0m File upload failed: ValueError('Uploading file failed (500) with max retries: 4 on url \\'https://www.comet.com/clientlib/asset/upload\\': b\\'{\"msg\":\"unexpected error\",\"code\":500,\"data\":null,\"sdk_error_code\":0}\\''), file: /tmp/tmp_wn75fiy/tmpqjel0y7s\n",
      "\u001b[1;38;5;196mCOMET ERROR:\u001b[0m File upload failed: ValueError('Uploading file failed (500) with max retries: 4 on url \\'https://www.comet.com/clientlib/asset/upload\\': b\\'{\"msg\":\"unexpected error\",\"code\":500,\"data\":null,\"sdk_error_code\":0}\\''), file: /tmp/tmp_wn75fiy/tmpbsnwg0x0\n",
      "\u001b[1;38;5;196mCOMET ERROR:\u001b[0m File upload failed: ValueError('Uploading file failed (500) with max retries: 4 on url \\'https://www.comet.com/clientlib/asset/upload\\': b\\'{\"msg\":\"unexpected error\",\"code\":500,\"data\":null,\"sdk_error_code\":0}\\''), file: /tmp/tmp_wn75fiy/tmp46xb4icf\n"
     ]
    },
    {
     "name": "stdout",
     "output_type": "stream",
     "text": [
      "Validation loss decreased (0.002333 --> 0.002276).  Saving model ...\n",
      "Epoch: 102/400... Loss: 0.001018... Val Loss: 0.002276\n"
     ]
    },
    {
     "name": "stderr",
     "output_type": "stream",
     "text": [
      "\u001b[1;38;5;196mCOMET ERROR:\u001b[0m File upload failed: ValueError('Uploading file failed (500) with max retries: 4 on url \\'https://www.comet.com/clientlib/asset/upload\\': b\\'{\"msg\":\"unexpected error\",\"code\":500,\"data\":null,\"sdk_error_code\":0}\\''), file: /tmp/tmp_wn75fiy/tmpfx72kqly\n"
     ]
    },
    {
     "name": "stdout",
     "output_type": "stream",
     "text": [
      "Validation loss decreased (0.002276 --> 0.002162).  Saving model ...\n",
      "Epoch: 103/400... Loss: 0.001014... Val Loss: 0.002162\n"
     ]
    },
    {
     "name": "stderr",
     "output_type": "stream",
     "text": [
      "\u001b[1;38;5;196mCOMET ERROR:\u001b[0m File upload failed: ValueError('Uploading file failed (500) with max retries: 4 on url \\'https://www.comet.com/clientlib/asset/upload\\': b\\'{\"msg\":\"unexpected error\",\"code\":500,\"data\":null,\"sdk_error_code\":0}\\''), file: /tmp/tmp_wn75fiy/tmpdalpr997\n"
     ]
    },
    {
     "name": "stdout",
     "output_type": "stream",
     "text": [
      "Validation loss decreased (0.002162 --> 0.002086).  Saving model ...\n",
      "Epoch: 104/400... Loss: 0.003351... Val Loss: 0.002086\n"
     ]
    },
    {
     "name": "stderr",
     "output_type": "stream",
     "text": [
      "\u001b[1;38;5;196mCOMET ERROR:\u001b[0m File upload failed: ValueError('Uploading file failed (500) with max retries: 4 on url \\'https://www.comet.com/clientlib/asset/upload\\': b\\'{\"msg\":\"unexpected error\",\"code\":500,\"data\":null,\"sdk_error_code\":0}\\''), file: /tmp/tmp_wn75fiy/tmp03mrv2am\n",
      "\u001b[1;38;5;196mCOMET ERROR:\u001b[0m File upload failed: ValueError('Uploading file failed (500) with max retries: 4 on url \\'https://www.comet.com/clientlib/asset/upload\\': b\\'{\"msg\":\"unexpected error\",\"code\":500,\"data\":null,\"sdk_error_code\":0}\\''), file: /tmp/tmp_wn75fiy/tmp4r28falz\n"
     ]
    },
    {
     "name": "stdout",
     "output_type": "stream",
     "text": [
      "Validation loss decreased (0.002086 --> 0.001954).  Saving model ...\n",
      "Epoch: 105/400... Loss: 0.006532... Val Loss: 0.001954\n"
     ]
    },
    {
     "name": "stderr",
     "output_type": "stream",
     "text": [
      "\u001b[1;38;5;196mCOMET ERROR:\u001b[0m File upload failed: ValueError('Uploading file failed (500) with max retries: 4 on url \\'https://www.comet.com/clientlib/asset/upload\\': b\\'{\"msg\":\"unexpected error\",\"code\":500,\"data\":null,\"sdk_error_code\":0}\\''), file: /tmp/tmp_wn75fiy/tmp3540lnl8\n",
      "\u001b[1;38;5;196mCOMET ERROR:\u001b[0m File upload failed: ValueError('Uploading file failed (500) with max retries: 4 on url \\'https://www.comet.com/clientlib/asset/upload\\': b\\'{\"msg\":\"unexpected error\",\"code\":500,\"data\":null,\"sdk_error_code\":0}\\''), file: /tmp/tmp_wn75fiy/tmp_vhnxbr_\n"
     ]
    },
    {
     "name": "stdout",
     "output_type": "stream",
     "text": [
      "Validation loss decreased (0.001954 --> 0.001918).  Saving model ...\n",
      "Epoch: 106/400... Loss: 0.001956... Val Loss: 0.001918\n"
     ]
    },
    {
     "name": "stderr",
     "output_type": "stream",
     "text": [
      "\u001b[1;38;5;196mCOMET ERROR:\u001b[0m File upload failed: ValueError('Uploading file failed (500) with max retries: 4 on url \\'https://www.comet.com/clientlib/asset/upload\\': b\\'{\"msg\":\"unexpected error\",\"code\":500,\"data\":null,\"sdk_error_code\":0}\\''), file: /tmp/tmp_wn75fiy/tmps25jt7tb\n",
      "\u001b[1;38;5;196mCOMET ERROR:\u001b[0m File upload failed: ValueError('Uploading file failed (500) with max retries: 4 on url \\'https://www.comet.com/clientlib/asset/upload\\': b\\'{\"msg\":\"unexpected error\",\"code\":500,\"data\":null,\"sdk_error_code\":0}\\''), file: /tmp/tmp_wn75fiy/tmp8x8rlsva\n"
     ]
    },
    {
     "name": "stdout",
     "output_type": "stream",
     "text": [
      "Validation loss decreased (0.001918 --> 0.001867).  Saving model ...\n",
      "Epoch: 107/400... Loss: 0.000673... Val Loss: 0.001867\n"
     ]
    },
    {
     "name": "stderr",
     "output_type": "stream",
     "text": [
      "\u001b[1;38;5;196mCOMET ERROR:\u001b[0m File upload failed: ValueError('Uploading file failed (500) with max retries: 4 on url \\'https://www.comet.com/clientlib/asset/upload\\': b\\'{\"msg\":\"unexpected error\",\"code\":500,\"data\":null,\"sdk_error_code\":0}\\''), file: /tmp/tmp_wn75fiy/tmpuqda2vot\n",
      "\u001b[1;38;5;196mCOMET ERROR:\u001b[0m File upload failed: ValueError('Uploading file failed (500) with max retries: 4 on url \\'https://www.comet.com/clientlib/asset/upload\\': b\\'{\"msg\":\"unexpected error\",\"code\":500,\"data\":null,\"sdk_error_code\":0}\\''), file: /tmp/tmp_wn75fiy/tmpj925imnz\n"
     ]
    },
    {
     "name": "stdout",
     "output_type": "stream",
     "text": [
      "Validation loss decreased (0.001867 --> 0.001829).  Saving model ...\n",
      "Epoch: 108/400... Loss: 0.003128... Val Loss: 0.001829\n"
     ]
    },
    {
     "name": "stderr",
     "output_type": "stream",
     "text": [
      "\u001b[1;38;5;196mCOMET ERROR:\u001b[0m File upload failed: ValueError('Uploading file failed (500) with max retries: 4 on url \\'https://www.comet.com/clientlib/asset/upload\\': b\\'{\"msg\":\"unexpected error\",\"code\":500,\"data\":null,\"sdk_error_code\":0}\\''), file: /tmp/tmp_wn75fiy/tmpk21rpevr\n",
      "\u001b[1;38;5;196mCOMET ERROR:\u001b[0m File upload failed: ValueError('Uploading file failed (500) with max retries: 4 on url \\'https://www.comet.com/clientlib/asset/upload\\': b\\'{\"msg\":\"unexpected error\",\"code\":500,\"data\":null,\"sdk_error_code\":0}\\''), file: /tmp/tmp_wn75fiy/tmphat8d_os\n"
     ]
    },
    {
     "name": "stdout",
     "output_type": "stream",
     "text": [
      "Validation loss decreased (0.001829 --> 0.001680).  Saving model ...\n",
      "Epoch: 109/400... Loss: 0.000680... Val Loss: 0.001680\n"
     ]
    },
    {
     "name": "stderr",
     "output_type": "stream",
     "text": [
      "\u001b[1;38;5;196mCOMET ERROR:\u001b[0m File upload failed: ValueError('Uploading file failed (500) with max retries: 4 on url \\'https://www.comet.com/clientlib/asset/upload\\': b\\'{\"msg\":\"unexpected error\",\"code\":500,\"data\":null,\"sdk_error_code\":0}\\''), file: /tmp/tmp_wn75fiy/tmpppgcgh78\n",
      "\u001b[1;38;5;196mCOMET ERROR:\u001b[0m File upload failed: ValueError('Uploading file failed (500) with max retries: 4 on url \\'https://www.comet.com/clientlib/asset/upload\\': b\\'{\"msg\":\"unexpected error\",\"code\":500,\"data\":null,\"sdk_error_code\":0}\\''), file: /tmp/tmp_wn75fiy/tmpd678upht\n"
     ]
    },
    {
     "name": "stdout",
     "output_type": "stream",
     "text": [
      "Validation loss decreased (0.001680 --> 0.001669).  Saving model ...\n",
      "Epoch: 110/400... Loss: 0.003101... Val Loss: 0.001669\n"
     ]
    },
    {
     "name": "stderr",
     "output_type": "stream",
     "text": [
      "\u001b[1;38;5;196mCOMET ERROR:\u001b[0m File upload failed: ValueError('Uploading file failed (500) with max retries: 4 on url \\'https://www.comet.com/clientlib/asset/upload\\': b\\'{\"msg\":\"unexpected error\",\"code\":500,\"data\":null,\"sdk_error_code\":0}\\''), file: /tmp/tmp_wn75fiy/tmpe45bit8i\n",
      "\u001b[1;38;5;196mCOMET ERROR:\u001b[0m File upload failed: ValueError('Uploading file failed (500) with max retries: 4 on url \\'https://www.comet.com/clientlib/asset/upload\\': b\\'{\"msg\":\"unexpected error\",\"code\":500,\"data\":null,\"sdk_error_code\":0}\\''), file: /tmp/tmp_wn75fiy/tmp37stddn3\n"
     ]
    },
    {
     "name": "stdout",
     "output_type": "stream",
     "text": [
      "Validation loss decreased (0.001669 --> 0.001579).  Saving model ...\n",
      "Epoch: 111/400... Loss: 0.001317... Val Loss: 0.001579\n"
     ]
    },
    {
     "name": "stderr",
     "output_type": "stream",
     "text": [
      "\u001b[1;38;5;196mCOMET ERROR:\u001b[0m File upload failed: ValueError('Uploading file failed (500) with max retries: 4 on url \\'https://www.comet.com/clientlib/asset/upload\\': b\\'{\"msg\":\"unexpected error\",\"code\":500,\"data\":null,\"sdk_error_code\":0}\\''), file: /tmp/tmp_wn75fiy/tmpd5iqy1lo\n",
      "\u001b[1;38;5;196mCOMET ERROR:\u001b[0m File upload failed: ValueError('Uploading file failed (500) with max retries: 4 on url \\'https://www.comet.com/clientlib/asset/upload\\': b\\'{\"msg\":\"unexpected error\",\"code\":500,\"data\":null,\"sdk_error_code\":0}\\''), file: /tmp/tmp_wn75fiy/tmpw652za_l\n"
     ]
    },
    {
     "name": "stdout",
     "output_type": "stream",
     "text": [
      "Epoch: 112/400... Loss: 0.019563... Val Loss: 0.001632\n"
     ]
    },
    {
     "name": "stderr",
     "output_type": "stream",
     "text": [
      "\u001b[1;38;5;196mCOMET ERROR:\u001b[0m File upload failed: ValueError('Uploading file failed (500) with max retries: 4 on url \\'https://www.comet.com/clientlib/asset/upload\\': b\\'{\"msg\":\"unexpected error\",\"code\":500,\"data\":null,\"sdk_error_code\":0}\\''), file: /tmp/tmp_wn75fiy/tmpp6wa8qw1\n",
      "\u001b[1;38;5;196mCOMET ERROR:\u001b[0m File upload failed: ValueError('Uploading file failed (500) with max retries: 4 on url \\'https://www.comet.com/clientlib/asset/upload\\': b\\'{\"msg\":\"unexpected error\",\"code\":500,\"data\":null,\"sdk_error_code\":0}\\''), file: /tmp/tmp_wn75fiy/tmprmpb8msz\n"
     ]
    },
    {
     "name": "stdout",
     "output_type": "stream",
     "text": [
      "Epoch: 113/400... Loss: 0.000820... Val Loss: 0.001615\n",
      "Epoch: 114/400... Loss: 0.001121... Val Loss: 0.001627\n",
      "Validation loss decreased (0.001579 --> 0.001465).  Saving model ...\n",
      "Epoch: 115/400... Loss: 0.000564... Val Loss: 0.001465\n"
     ]
    },
    {
     "name": "stderr",
     "output_type": "stream",
     "text": [
      "\u001b[1;38;5;196mCOMET ERROR:\u001b[0m File upload failed: ValueError('Uploading file failed (500) with max retries: 4 on url \\'https://www.comet.com/clientlib/asset/upload\\': b\\'{\"msg\":\"unexpected error\",\"code\":500,\"data\":null,\"sdk_error_code\":0}\\''), file: /tmp/tmp_wn75fiy/tmpg72iy1ec\n",
      "\u001b[1;38;5;196mCOMET ERROR:\u001b[0m File upload failed: ValueError('Uploading file failed (500) with max retries: 4 on url \\'https://www.comet.com/clientlib/asset/upload\\': b\\'{\"msg\":\"unexpected error\",\"code\":500,\"data\":null,\"sdk_error_code\":0}\\''), file: /tmp/tmp_wn75fiy/tmpkdxwpg57\n"
     ]
    },
    {
     "name": "stdout",
     "output_type": "stream",
     "text": [
      "Validation loss decreased (0.001465 --> 0.001456).  Saving model ...\n",
      "Epoch: 116/400... Loss: 0.000557... Val Loss: 0.001456\n"
     ]
    },
    {
     "name": "stderr",
     "output_type": "stream",
     "text": [
      "\u001b[1;38;5;196mCOMET ERROR:\u001b[0m File upload failed: ValueError('Uploading file failed (500) with max retries: 4 on url \\'https://www.comet.com/clientlib/asset/upload\\': b\\'{\"msg\":\"unexpected error\",\"code\":500,\"data\":null,\"sdk_error_code\":0}\\''), file: /tmp/tmp_wn75fiy/tmpal3d5s7u\n",
      "\u001b[1;38;5;196mCOMET ERROR:\u001b[0m File upload failed: ValueError('Uploading file failed (500) with max retries: 4 on url \\'https://www.comet.com/clientlib/asset/upload\\': b\\'{\"msg\":\"unexpected error\",\"code\":500,\"data\":null,\"sdk_error_code\":0}\\''), file: /tmp/tmp_wn75fiy/tmpr2t6tqan\n"
     ]
    },
    {
     "name": "stdout",
     "output_type": "stream",
     "text": [
      "Validation loss decreased (0.001456 --> 0.001323).  Saving model ...\n",
      "Epoch: 117/400... Loss: 0.001131... Val Loss: 0.001323\n"
     ]
    },
    {
     "name": "stderr",
     "output_type": "stream",
     "text": [
      "\u001b[1;38;5;196mCOMET ERROR:\u001b[0m File upload failed: ValueError('Uploading file failed (500) with max retries: 4 on url \\'https://www.comet.com/clientlib/asset/upload\\': b\\'{\"msg\":\"unexpected error\",\"code\":500,\"data\":null,\"sdk_error_code\":0}\\''), file: /tmp/tmp_wn75fiy/tmpd_icuj2v\n",
      "\u001b[1;38;5;196mCOMET ERROR:\u001b[0m File upload failed: ValueError('Uploading file failed (500) with max retries: 4 on url \\'https://www.comet.com/clientlib/asset/upload\\': b\\'{\"msg\":\"unexpected error\",\"code\":500,\"data\":null,\"sdk_error_code\":0}\\''), file: /tmp/tmp_wn75fiy/tmp83darps7\n"
     ]
    },
    {
     "name": "stdout",
     "output_type": "stream",
     "text": [
      "Epoch: 118/400... Loss: 0.001211... Val Loss: 0.001423\n",
      "Epoch: 119/400... Loss: 0.007335... Val Loss: 0.001410\n",
      "Epoch: 120/400... Loss: 0.000111... Val Loss: 0.001446\n",
      "Validation loss decreased (0.001323 --> 0.001256).  Saving model ...\n",
      "Epoch: 121/400... Loss: 0.001416... Val Loss: 0.001256\n"
     ]
    },
    {
     "name": "stderr",
     "output_type": "stream",
     "text": [
      "\u001b[1;38;5;196mCOMET ERROR:\u001b[0m File upload failed: ValueError('Uploading file failed (500) with max retries: 4 on url \\'https://www.comet.com/clientlib/asset/upload\\': b\\'{\"msg\":\"unexpected error\",\"code\":500,\"data\":null,\"sdk_error_code\":0}\\''), file: /tmp/tmp_wn75fiy/tmp8u6fburn\n",
      "\u001b[1;38;5;196mCOMET ERROR:\u001b[0m File upload failed: ValueError('Uploading file failed (500) with max retries: 4 on url \\'https://www.comet.com/clientlib/asset/upload\\': b\\'{\"msg\":\"unexpected error\",\"code\":500,\"data\":null,\"sdk_error_code\":0}\\''), file: /tmp/tmp_wn75fiy/tmppcm61b74\n"
     ]
    },
    {
     "name": "stdout",
     "output_type": "stream",
     "text": [
      "Validation loss decreased (0.001256 --> 0.001226).  Saving model ...\n",
      "Epoch: 122/400... Loss: 0.001587... Val Loss: 0.001226\n"
     ]
    },
    {
     "name": "stderr",
     "output_type": "stream",
     "text": [
      "\u001b[1;38;5;196mCOMET ERROR:\u001b[0m File upload failed: ValueError('Uploading file failed (500) with max retries: 4 on url \\'https://www.comet.com/clientlib/asset/upload\\': b\\'{\"msg\":\"unexpected error\",\"code\":500,\"data\":null,\"sdk_error_code\":0}\\''), file: /tmp/tmp_wn75fiy/tmpofjwrmoj\n",
      "\u001b[1;38;5;196mCOMET ERROR:\u001b[0m File upload failed: ValueError('Uploading file failed (500) with max retries: 4 on url \\'https://www.comet.com/clientlib/asset/upload\\': b\\'{\"msg\":\"unexpected error\",\"code\":500,\"data\":null,\"sdk_error_code\":0}\\''), file: /tmp/tmp_wn75fiy/tmpjzg2k1tm\n"
     ]
    },
    {
     "name": "stdout",
     "output_type": "stream",
     "text": [
      "Epoch: 123/400... Loss: 0.000544... Val Loss: 0.001230\n",
      "Validation loss decreased (0.001226 --> 0.001183).  Saving model ...\n",
      "Epoch: 124/400... Loss: 0.000391... Val Loss: 0.001183\n"
     ]
    },
    {
     "name": "stderr",
     "output_type": "stream",
     "text": [
      "\u001b[1;38;5;196mCOMET ERROR:\u001b[0m File upload failed: ValueError('Uploading file failed (500) with max retries: 4 on url \\'https://www.comet.com/clientlib/asset/upload\\': b\\'{\"msg\":\"unexpected error\",\"code\":500,\"data\":null,\"sdk_error_code\":0}\\''), file: /tmp/tmp_wn75fiy/tmpayhny39q\n"
     ]
    },
    {
     "name": "stdout",
     "output_type": "stream",
     "text": [
      "Validation loss decreased (0.001183 --> 0.001155).  Saving model ...\n",
      "Epoch: 125/400... Loss: 0.001584... Val Loss: 0.001155\n"
     ]
    },
    {
     "name": "stderr",
     "output_type": "stream",
     "text": [
      "\u001b[1;38;5;196mCOMET ERROR:\u001b[0m File upload failed: ValueError('Uploading file failed (500) with max retries: 4 on url \\'https://www.comet.com/clientlib/asset/upload\\': b\\'{\"msg\":\"unexpected error\",\"code\":500,\"data\":null,\"sdk_error_code\":0}\\''), file: /tmp/tmp_wn75fiy/tmpepsm4igk\n"
     ]
    },
    {
     "name": "stdout",
     "output_type": "stream",
     "text": [
      "Validation loss decreased (0.001155 --> 0.001133).  Saving model ...\n",
      "Epoch: 126/400... Loss: 0.000348... Val Loss: 0.001133\n"
     ]
    },
    {
     "name": "stderr",
     "output_type": "stream",
     "text": [
      "\u001b[1;38;5;196mCOMET ERROR:\u001b[0m File upload failed: ValueError('Uploading file failed (500) with max retries: 4 on url \\'https://www.comet.com/clientlib/asset/upload\\': b\\'{\"msg\":\"unexpected error\",\"code\":500,\"data\":null,\"sdk_error_code\":0}\\''), file: /tmp/tmp_wn75fiy/tmpqcjnm4b8\n",
      "\u001b[1;38;5;196mCOMET ERROR:\u001b[0m File upload failed: ValueError('Uploading file failed (500) with max retries: 4 on url \\'https://www.comet.com/clientlib/asset/upload\\': b\\'{\"msg\":\"unexpected error\",\"code\":500,\"data\":null,\"sdk_error_code\":0}\\''), file: /tmp/tmp_wn75fiy/tmpnw3zuh37\n",
      "\u001b[1;38;5;196mCOMET ERROR:\u001b[0m File upload failed: ValueError('Uploading file failed (500) with max retries: 4 on url \\'https://www.comet.com/clientlib/asset/upload\\': b\\'{\"msg\":\"unexpected error\",\"code\":500,\"data\":null,\"sdk_error_code\":0}\\''), file: /tmp/tmp_wn75fiy/tmpuvcv7y4v\n",
      "\u001b[1;38;5;196mCOMET ERROR:\u001b[0m File upload failed: ValueError('Uploading file failed (500) with max retries: 4 on url \\'https://www.comet.com/clientlib/asset/upload\\': b\\'{\"msg\":\"unexpected error\",\"code\":500,\"data\":null,\"sdk_error_code\":0}\\''), file: /tmp/tmp_wn75fiy/tmpb9ue8fw5\n"
     ]
    },
    {
     "name": "stdout",
     "output_type": "stream",
     "text": [
      "Validation loss decreased (0.001133 --> 0.001062).  Saving model ...\n",
      "Epoch: 127/400... Loss: 0.001769... Val Loss: 0.001062\n",
      "Epoch: 128/400... Loss: 0.001098... Val Loss: 0.001171\n"
     ]
    },
    {
     "name": "stderr",
     "output_type": "stream",
     "text": [
      "\u001b[1;38;5;196mCOMET ERROR:\u001b[0m File upload failed: ValueError('Uploading file failed (500) with max retries: 4 on url \\'https://www.comet.com/clientlib/asset/upload\\': b\\'{\"msg\":\"unexpected error\",\"code\":500,\"data\":null,\"sdk_error_code\":0}\\''), file: /tmp/tmp_wn75fiy/tmp1nyndn7o\n",
      "\u001b[1;38;5;196mCOMET ERROR:\u001b[0m File upload failed: ValueError('Uploading file failed (500) with max retries: 4 on url \\'https://www.comet.com/clientlib/asset/upload\\': b\\'{\"msg\":\"unexpected error\",\"code\":500,\"data\":null,\"sdk_error_code\":0}\\''), file: /tmp/tmp_wn75fiy/tmpi51_gen_\n"
     ]
    },
    {
     "name": "stdout",
     "output_type": "stream",
     "text": [
      "Epoch: 129/400... Loss: 0.000853... Val Loss: 0.001333\n",
      "Epoch: 130/400... Loss: 0.000643... Val Loss: 0.001271\n",
      "Epoch: 131/400... Loss: 0.001463... Val Loss: 0.001156\n",
      "Epoch: 132/400... Loss: 0.002893... Val Loss: 0.001071\n",
      "Epoch: 133/400... Loss: 0.000259... Val Loss: 0.001391\n",
      "Epoch: 134/400... Loss: 0.001404... Val Loss: 0.001347\n",
      "Epoch: 135/400... Loss: 0.001387... Val Loss: 0.001102\n",
      "Validation loss decreased (0.001062 --> 0.000923).  Saving model ...\n",
      "Epoch: 136/400... Loss: 0.000186... Val Loss: 0.000923\n",
      "Epoch: 137/400... Loss: 0.001046... Val Loss: 0.001074\n"
     ]
    },
    {
     "name": "stderr",
     "output_type": "stream",
     "text": [
      "\u001b[1;38;5;196mCOMET ERROR:\u001b[0m File upload failed: ValueError('Uploading file failed (500) with max retries: 4 on url \\'https://www.comet.com/clientlib/asset/upload\\': b\\'{\"msg\":\"unexpected error\",\"code\":500,\"data\":null,\"sdk_error_code\":0}\\''), file: /tmp/tmp_wn75fiy/tmppavqyank\n",
      "\u001b[1;38;5;196mCOMET ERROR:\u001b[0m File upload failed: ValueError('Uploading file failed (500) with max retries: 4 on url \\'https://www.comet.com/clientlib/asset/upload\\': b\\'{\"msg\":\"unexpected error\",\"code\":500,\"data\":null,\"sdk_error_code\":0}\\''), file: /tmp/tmp_wn75fiy/tmpuxakq3v2\n"
     ]
    },
    {
     "name": "stdout",
     "output_type": "stream",
     "text": [
      "Epoch: 138/400... Loss: 0.000456... Val Loss: 0.001028\n",
      "Epoch: 139/400... Loss: 0.005385... Val Loss: 0.001092\n",
      "Epoch: 140/400... Loss: 0.039160... Val Loss: 0.001005\n",
      "Epoch: 141/400... Loss: 0.030237... Val Loss: 0.001104\n",
      "Validation loss decreased (0.000923 --> 0.000875).  Saving model ...\n",
      "Epoch: 142/400... Loss: 0.000238... Val Loss: 0.000875\n"
     ]
    },
    {
     "name": "stderr",
     "output_type": "stream",
     "text": [
      "\u001b[1;38;5;196mCOMET ERROR:\u001b[0m File upload failed: ValueError('Uploading file failed (500) with max retries: 4 on url \\'https://www.comet.com/clientlib/asset/upload\\': b\\'{\"msg\":\"unexpected error\",\"code\":500,\"data\":null,\"sdk_error_code\":0}\\''), file: /tmp/tmp_wn75fiy/tmpv_uf8keq\n"
     ]
    },
    {
     "name": "stdout",
     "output_type": "stream",
     "text": [
      "Epoch: 143/400... Loss: 0.000119... Val Loss: 0.001246\n"
     ]
    },
    {
     "name": "stderr",
     "output_type": "stream",
     "text": [
      "\u001b[1;38;5;196mCOMET ERROR:\u001b[0m File upload failed: ValueError('Uploading file failed (500) with max retries: 4 on url \\'https://www.comet.com/clientlib/asset/upload\\': b\\'{\"msg\":\"unexpected error\",\"code\":500,\"data\":null,\"sdk_error_code\":0}\\''), file: /tmp/tmp_wn75fiy/tmpa_w5g89i\n"
     ]
    },
    {
     "name": "stdout",
     "output_type": "stream",
     "text": [
      "Epoch: 144/400... Loss: 0.001408... Val Loss: 0.000934\n",
      "Epoch: 145/400... Loss: 0.000369... Val Loss: 0.000968\n",
      "Epoch: 146/400... Loss: 0.000219... Val Loss: 0.001117\n",
      "Epoch: 147/400... Loss: 0.003332... Val Loss: 0.000971\n",
      "Epoch: 148/400... Loss: 0.000236... Val Loss: 0.000879\n",
      "Epoch: 149/400... Loss: 0.000212... Val Loss: 0.000968\n",
      "Validation loss decreased (0.000875 --> 0.000829).  Saving model ...\n",
      "Epoch: 150/400... Loss: 0.007310... Val Loss: 0.000829\n"
     ]
    },
    {
     "name": "stderr",
     "output_type": "stream",
     "text": [
      "\u001b[1;38;5;196mCOMET ERROR:\u001b[0m File upload failed: ValueError('Uploading file failed (500) with max retries: 4 on url \\'https://www.comet.com/clientlib/asset/upload\\': b\\'{\"msg\":\"unexpected error\",\"code\":500,\"data\":null,\"sdk_error_code\":0}\\''), file: /tmp/tmp_wn75fiy/tmp67uan5k3\n",
      "\u001b[1;38;5;196mCOMET ERROR:\u001b[0m File upload failed: ValueError('Uploading file failed (500) with max retries: 4 on url \\'https://www.comet.com/clientlib/asset/upload\\': b\\'{\"msg\":\"unexpected error\",\"code\":500,\"data\":null,\"sdk_error_code\":0}\\''), file: /tmp/tmp_wn75fiy/tmp2qt8fvu9\n"
     ]
    },
    {
     "name": "stdout",
     "output_type": "stream",
     "text": [
      "Validation loss decreased (0.000829 --> 0.000786).  Saving model ...\n",
      "Epoch: 151/400... Loss: 0.000843... Val Loss: 0.000786\n"
     ]
    },
    {
     "name": "stderr",
     "output_type": "stream",
     "text": [
      "\u001b[1;38;5;196mCOMET ERROR:\u001b[0m File upload failed: ValueError('Uploading file failed (500) with max retries: 4 on url \\'https://www.comet.com/clientlib/asset/upload\\': b\\'{\"msg\":\"unexpected error\",\"code\":500,\"data\":null,\"sdk_error_code\":0}\\''), file: /tmp/tmp_wn75fiy/tmp5n_nssvx\n",
      "\u001b[1;38;5;196mCOMET ERROR:\u001b[0m File upload failed: ValueError('Uploading file failed (500) with max retries: 4 on url \\'https://www.comet.com/clientlib/asset/upload\\': b\\'{\"msg\":\"unexpected error\",\"code\":500,\"data\":null,\"sdk_error_code\":0}\\''), file: /tmp/tmp_wn75fiy/tmp4p4tfoax\n"
     ]
    },
    {
     "name": "stdout",
     "output_type": "stream",
     "text": [
      "Epoch: 152/400... Loss: 0.001410... Val Loss: 0.000996\n",
      "Epoch: 153/400... Loss: 0.000429... Val Loss: 0.000810\n",
      "Epoch: 154/400... Loss: 0.000162... Val Loss: 0.000978\n",
      "Epoch: 155/400... Loss: 0.000928... Val Loss: 0.000820\n",
      "Epoch: 156/400... Loss: 0.088968... Val Loss: 0.000820\n",
      "Validation loss decreased (0.000786 --> 0.000722).  Saving model ...\n",
      "Epoch: 157/400... Loss: 0.000899... Val Loss: 0.000722\n"
     ]
    },
    {
     "name": "stderr",
     "output_type": "stream",
     "text": [
      "\u001b[1;38;5;196mCOMET ERROR:\u001b[0m File upload failed: ValueError('Uploading file failed (500) with max retries: 4 on url \\'https://www.comet.com/clientlib/asset/upload\\': b\\'{\"msg\":\"unexpected error\",\"code\":500,\"data\":null,\"sdk_error_code\":0}\\''), file: /tmp/tmp_wn75fiy/tmpmfv5idu5\n"
     ]
    },
    {
     "name": "stdout",
     "output_type": "stream",
     "text": [
      "Validation loss decreased (0.000722 --> 0.000717).  Saving model ...\n",
      "Epoch: 158/400... Loss: 0.000643... Val Loss: 0.000717\n"
     ]
    },
    {
     "name": "stderr",
     "output_type": "stream",
     "text": [
      "\u001b[1;38;5;196mCOMET ERROR:\u001b[0m File upload failed: ValueError('Uploading file failed (500) with max retries: 4 on url \\'https://www.comet.com/clientlib/asset/upload\\': b\\'{\"msg\":\"unexpected error\",\"code\":500,\"data\":null,\"sdk_error_code\":0}\\''), file: /tmp/tmp_wn75fiy/tmpssi2jx5a\n",
      "\u001b[1;38;5;196mCOMET ERROR:\u001b[0m File upload failed: ValueError('Uploading file failed (500) with max retries: 4 on url \\'https://www.comet.com/clientlib/asset/upload\\': b\\'{\"msg\":\"unexpected error\",\"code\":500,\"data\":null,\"sdk_error_code\":0}\\''), file: /tmp/tmp_wn75fiy/tmp07wxay77\n",
      "\u001b[1;38;5;196mCOMET ERROR:\u001b[0m File upload failed: ValueError('Uploading file failed (500) with max retries: 4 on url \\'https://www.comet.com/clientlib/asset/upload\\': b\\'{\"msg\":\"unexpected error\",\"code\":500,\"data\":null,\"sdk_error_code\":0}\\''), file: /tmp/tmp_wn75fiy/tmp23jip0nc\n"
     ]
    },
    {
     "name": "stdout",
     "output_type": "stream",
     "text": [
      "Epoch: 159/400... Loss: 0.000104... Val Loss: 0.000785\n",
      "Validation loss decreased (0.000717 --> 0.000698).  Saving model ...\n",
      "Epoch: 160/400... Loss: 0.000348... Val Loss: 0.000698\n"
     ]
    },
    {
     "name": "stderr",
     "output_type": "stream",
     "text": [
      "\u001b[1;38;5;196mCOMET ERROR:\u001b[0m File upload failed: ValueError('Uploading file failed (500) with max retries: 4 on url \\'https://www.comet.com/clientlib/asset/upload\\': b\\'{\"msg\":\"unexpected error\",\"code\":500,\"data\":null,\"sdk_error_code\":0}\\''), file: /tmp/tmp_wn75fiy/tmptc_4ccds\n",
      "\u001b[1;38;5;196mCOMET ERROR:\u001b[0m File upload failed: ValueError('Uploading file failed (500) with max retries: 4 on url \\'https://www.comet.com/clientlib/asset/upload\\': b\\'{\"msg\":\"unexpected error\",\"code\":500,\"data\":null,\"sdk_error_code\":0}\\''), file: /tmp/tmp_wn75fiy/tmp5ebvig2c\n"
     ]
    },
    {
     "name": "stdout",
     "output_type": "stream",
     "text": [
      "Validation loss decreased (0.000698 --> 0.000653).  Saving model ...\n",
      "Epoch: 161/400... Loss: 0.001166... Val Loss: 0.000653\n"
     ]
    },
    {
     "name": "stderr",
     "output_type": "stream",
     "text": [
      "\u001b[1;38;5;196mCOMET ERROR:\u001b[0m File upload failed: ValueError('Uploading file failed (500) with max retries: 4 on url \\'https://www.comet.com/clientlib/asset/upload\\': b\\'{\"msg\":\"unexpected error\",\"code\":500,\"data\":null,\"sdk_error_code\":0}\\''), file: /tmp/tmp_wn75fiy/tmpsk1xm0pl\n",
      "\u001b[1;38;5;196mCOMET ERROR:\u001b[0m File upload failed: ValueError('Uploading file failed (500) with max retries: 4 on url \\'https://www.comet.com/clientlib/asset/upload\\': b\\'{\"msg\":\"unexpected error\",\"code\":500,\"data\":null,\"sdk_error_code\":0}\\''), file: /tmp/tmp_wn75fiy/tmph6s7uanx\n"
     ]
    },
    {
     "name": "stdout",
     "output_type": "stream",
     "text": [
      "Validation loss decreased (0.000653 --> 0.000647).  Saving model ...\n",
      "Epoch: 162/400... Loss: 0.000449... Val Loss: 0.000647\n"
     ]
    },
    {
     "name": "stderr",
     "output_type": "stream",
     "text": [
      "\u001b[1;38;5;196mCOMET ERROR:\u001b[0m File upload failed: ValueError('Uploading file failed (500) with max retries: 4 on url \\'https://www.comet.com/clientlib/asset/upload\\': b\\'{\"msg\":\"unexpected error\",\"code\":500,\"data\":null,\"sdk_error_code\":0}\\''), file: /tmp/tmp_wn75fiy/tmpbn1earr3\n",
      "\u001b[1;38;5;196mCOMET ERROR:\u001b[0m File upload failed: ValueError('Uploading file failed (500) with max retries: 4 on url \\'https://www.comet.com/clientlib/asset/upload\\': b\\'{\"msg\":\"unexpected error\",\"code\":500,\"data\":null,\"sdk_error_code\":0}\\''), file: /tmp/tmp_wn75fiy/tmpy_ao8_3i\n"
     ]
    },
    {
     "name": "stdout",
     "output_type": "stream",
     "text": [
      "Epoch: 163/400... Loss: 0.000213... Val Loss: 0.000667\n",
      "Validation loss decreased (0.000647 --> 0.000623).  Saving model ...\n",
      "Epoch: 164/400... Loss: 0.000658... Val Loss: 0.000623\n"
     ]
    },
    {
     "name": "stderr",
     "output_type": "stream",
     "text": [
      "\u001b[1;38;5;196mCOMET ERROR:\u001b[0m File upload failed: ValueError('Uploading file failed (500) with max retries: 4 on url \\'https://www.comet.com/clientlib/asset/upload\\': b\\'{\"msg\":\"unexpected error\",\"code\":500,\"data\":null,\"sdk_error_code\":0}\\''), file: /tmp/tmp_wn75fiy/tmpb6x3y26a\n"
     ]
    },
    {
     "name": "stdout",
     "output_type": "stream",
     "text": [
      "Epoch: 165/400... Loss: 0.000067... Val Loss: 0.000638\n"
     ]
    },
    {
     "name": "stderr",
     "output_type": "stream",
     "text": [
      "\u001b[1;38;5;196mCOMET ERROR:\u001b[0m File upload failed: ValueError('Uploading file failed (500) with max retries: 4 on url \\'https://www.comet.com/clientlib/asset/upload\\': b\\'{\"msg\":\"unexpected error\",\"code\":500,\"data\":null,\"sdk_error_code\":0}\\''), file: /tmp/tmp_wn75fiy/tmpf1gcvxnm\n"
     ]
    },
    {
     "name": "stdout",
     "output_type": "stream",
     "text": [
      "Validation loss decreased (0.000623 --> 0.000588).  Saving model ...\n",
      "Epoch: 166/400... Loss: 0.001067... Val Loss: 0.000588\n"
     ]
    },
    {
     "name": "stderr",
     "output_type": "stream",
     "text": [
      "\u001b[1;38;5;196mCOMET ERROR:\u001b[0m File upload failed: ValueError('Uploading file failed (500) with max retries: 4 on url \\'https://www.comet.com/clientlib/asset/upload\\': b\\'{\"msg\":\"unexpected error\",\"code\":500,\"data\":null,\"sdk_error_code\":0}\\''), file: /tmp/tmp_wn75fiy/tmpz5ksethh\n",
      "\u001b[1;38;5;196mCOMET ERROR:\u001b[0m File upload failed: ValueError('Uploading file failed (500) with max retries: 4 on url \\'https://www.comet.com/clientlib/asset/upload\\': b\\'{\"msg\":\"unexpected error\",\"code\":500,\"data\":null,\"sdk_error_code\":0}\\''), file: /tmp/tmp_wn75fiy/tmp1acoyjyb\n"
     ]
    },
    {
     "name": "stdout",
     "output_type": "stream",
     "text": [
      "Validation loss decreased (0.000588 --> 0.000581).  Saving model ...\n",
      "Epoch: 167/400... Loss: 0.000819... Val Loss: 0.000581\n"
     ]
    },
    {
     "name": "stderr",
     "output_type": "stream",
     "text": [
      "\u001b[1;38;5;196mCOMET ERROR:\u001b[0m File upload failed: ValueError('Uploading file failed (500) with max retries: 4 on url \\'https://www.comet.com/clientlib/asset/upload\\': b\\'{\"msg\":\"unexpected error\",\"code\":500,\"data\":null,\"sdk_error_code\":0}\\''), file: /tmp/tmp_wn75fiy/tmp0shelo4i\n",
      "\u001b[1;38;5;196mCOMET ERROR:\u001b[0m File upload failed: ValueError('Uploading file failed (500) with max retries: 4 on url \\'https://www.comet.com/clientlib/asset/upload\\': b\\'{\"msg\":\"unexpected error\",\"code\":500,\"data\":null,\"sdk_error_code\":0}\\''), file: /tmp/tmp_wn75fiy/tmpz8og0gtn\n"
     ]
    },
    {
     "name": "stdout",
     "output_type": "stream",
     "text": [
      "Epoch: 168/400... Loss: 0.000185... Val Loss: 0.000591\n",
      "Epoch: 169/400... Loss: 0.005258... Val Loss: 0.000621\n",
      "Validation loss decreased (0.000581 --> 0.000579).  Saving model ...\n",
      "Epoch: 170/400... Loss: 0.000172... Val Loss: 0.000579\n",
      "Validation loss decreased (0.000579 --> 0.000534).  Saving model ...\n",
      "Epoch: 171/400... Loss: 0.000184... Val Loss: 0.000534\n"
     ]
    },
    {
     "name": "stderr",
     "output_type": "stream",
     "text": [
      "\u001b[1;38;5;196mCOMET ERROR:\u001b[0m File upload failed: ValueError('Uploading file failed (500) with max retries: 4 on url \\'https://www.comet.com/clientlib/asset/upload\\': b\\'{\"msg\":\"unexpected error\",\"code\":500,\"data\":null,\"sdk_error_code\":0}\\''), file: /tmp/tmp_wn75fiy/tmpugul15go\n",
      "\u001b[1;38;5;196mCOMET ERROR:\u001b[0m File upload failed: ValueError('Uploading file failed (500) with max retries: 4 on url \\'https://www.comet.com/clientlib/asset/upload\\': b\\'{\"msg\":\"unexpected error\",\"code\":500,\"data\":null,\"sdk_error_code\":0}\\''), file: /tmp/tmp_wn75fiy/tmpylecbwti\n"
     ]
    },
    {
     "name": "stdout",
     "output_type": "stream",
     "text": [
      "Epoch: 172/400... Loss: 0.003116... Val Loss: 0.000553\n"
     ]
    },
    {
     "name": "stderr",
     "output_type": "stream",
     "text": [
      "\u001b[1;38;5;196mCOMET ERROR:\u001b[0m File upload failed: ValueError('Uploading file failed (500) with max retries: 4 on url \\'https://www.comet.com/clientlib/asset/upload\\': b\\'{\"msg\":\"unexpected error\",\"code\":500,\"data\":null,\"sdk_error_code\":0}\\''), file: /tmp/tmp_wn75fiy/tmpfi_0s1yz\n",
      "\u001b[1;38;5;196mCOMET ERROR:\u001b[0m File upload failed: ValueError('Uploading file failed (500) with max retries: 4 on url \\'https://www.comet.com/clientlib/asset/upload\\': b\\'{\"msg\":\"unexpected error\",\"code\":500,\"data\":null,\"sdk_error_code\":0}\\''), file: /tmp/tmp_wn75fiy/tmpvvq5w0si\n"
     ]
    },
    {
     "name": "stdout",
     "output_type": "stream",
     "text": [
      "Validation loss decreased (0.000534 --> 0.000500).  Saving model ...\n",
      "Epoch: 173/400... Loss: 0.000607... Val Loss: 0.000500\n",
      "Validation loss decreased (0.000500 --> 0.000484).  Saving model ...\n",
      "Epoch: 174/400... Loss: 0.000237... Val Loss: 0.000484\n"
     ]
    },
    {
     "name": "stderr",
     "output_type": "stream",
     "text": [
      "\u001b[1;38;5;196mCOMET ERROR:\u001b[0m File upload failed: ValueError('Uploading file failed (500) with max retries: 4 on url \\'https://www.comet.com/clientlib/asset/upload\\': b\\'{\"msg\":\"unexpected error\",\"code\":500,\"data\":null,\"sdk_error_code\":0}\\''), file: /tmp/tmp_wn75fiy/tmpiwbx34l6\n",
      "\u001b[1;38;5;196mCOMET ERROR:\u001b[0m File upload failed: ValueError('Uploading file failed (500) with max retries: 4 on url \\'https://www.comet.com/clientlib/asset/upload\\': b\\'{\"msg\":\"unexpected error\",\"code\":500,\"data\":null,\"sdk_error_code\":0}\\''), file: /tmp/tmp_wn75fiy/tmphtjz_n2l\n",
      "\u001b[1;38;5;196mCOMET ERROR:\u001b[0m File upload failed: ValueError('Uploading file failed (500) with max retries: 4 on url \\'https://www.comet.com/clientlib/asset/upload\\': b\\'{\"msg\":\"unexpected error\",\"code\":500,\"data\":null,\"sdk_error_code\":0}\\''), file: /tmp/tmp_wn75fiy/tmpown480sq\n",
      "\u001b[1;38;5;196mCOMET ERROR:\u001b[0m File upload failed: ValueError('Uploading file failed (500) with max retries: 4 on url \\'https://www.comet.com/clientlib/asset/upload\\': b\\'{\"msg\":\"unexpected error\",\"code\":500,\"data\":null,\"sdk_error_code\":0}\\''), file: /tmp/tmp_wn75fiy/tmp5jz5emuz\n"
     ]
    },
    {
     "name": "stdout",
     "output_type": "stream",
     "text": [
      "Epoch: 175/400... Loss: 0.000434... Val Loss: 0.000690\n",
      "Epoch: 176/400... Loss: 0.000219... Val Loss: 0.000503\n",
      "Validation loss decreased (0.000484 --> 0.000479).  Saving model ...\n",
      "Epoch: 177/400... Loss: 0.000131... Val Loss: 0.000479\n",
      "Epoch: 178/400... Loss: 0.000804... Val Loss: 0.000492\n"
     ]
    },
    {
     "name": "stderr",
     "output_type": "stream",
     "text": [
      "\u001b[1;38;5;196mCOMET ERROR:\u001b[0m File upload failed: ValueError('Uploading file failed (500) with max retries: 4 on url \\'https://www.comet.com/clientlib/asset/upload\\': b\\'{\"msg\":\"unexpected error\",\"code\":500,\"data\":null,\"sdk_error_code\":0}\\''), file: /tmp/tmp_wn75fiy/tmpk4g4gtmo\n",
      "\u001b[1;38;5;196mCOMET ERROR:\u001b[0m File upload failed: ValueError('Uploading file failed (500) with max retries: 4 on url \\'https://www.comet.com/clientlib/asset/upload\\': b\\'{\"msg\":\"unexpected error\",\"code\":500,\"data\":null,\"sdk_error_code\":0}\\''), file: /tmp/tmp_wn75fiy/tmpew2n1h77\n"
     ]
    },
    {
     "name": "stdout",
     "output_type": "stream",
     "text": [
      "Validation loss decreased (0.000479 --> 0.000435).  Saving model ...\n",
      "Epoch: 179/400... Loss: 0.000117... Val Loss: 0.000435\n"
     ]
    },
    {
     "name": "stderr",
     "output_type": "stream",
     "text": [
      "\u001b[1;38;5;196mCOMET ERROR:\u001b[0m File upload failed: ValueError('Uploading file failed (500) with max retries: 4 on url \\'https://www.comet.com/clientlib/asset/upload\\': b\\'{\"msg\":\"unexpected error\",\"code\":500,\"data\":null,\"sdk_error_code\":0}\\''), file: /tmp/tmp_wn75fiy/tmpm94jfxlv\n",
      "\u001b[1;38;5;196mCOMET ERROR:\u001b[0m File upload failed: ValueError('Uploading file failed (500) with max retries: 4 on url \\'https://www.comet.com/clientlib/asset/upload\\': b\\'{\"msg\":\"unexpected error\",\"code\":500,\"data\":null,\"sdk_error_code\":0}\\''), file: /tmp/tmp_wn75fiy/tmpsonr_k6k\n"
     ]
    },
    {
     "name": "stdout",
     "output_type": "stream",
     "text": [
      "Epoch: 180/400... Loss: 0.000643... Val Loss: 0.000508\n",
      "Validation loss decreased (0.000435 --> 0.000417).  Saving model ...\n",
      "Epoch: 181/400... Loss: 0.000115... Val Loss: 0.000417\n",
      "Epoch: 182/400... Loss: 0.002867... Val Loss: 0.000426\n"
     ]
    },
    {
     "name": "stderr",
     "output_type": "stream",
     "text": [
      "\u001b[1;38;5;196mCOMET ERROR:\u001b[0m File upload failed: ValueError('Uploading file failed (500) with max retries: 4 on url \\'https://www.comet.com/clientlib/asset/upload\\': b\\'{\"msg\":\"unexpected error\",\"code\":500,\"data\":null,\"sdk_error_code\":0}\\''), file: /tmp/tmp_wn75fiy/tmposew61ba\n",
      "\u001b[1;38;5;196mCOMET ERROR:\u001b[0m File upload failed: ValueError('Uploading file failed (500) with max retries: 4 on url \\'https://www.comet.com/clientlib/asset/upload\\': b\\'{\"msg\":\"unexpected error\",\"code\":500,\"data\":null,\"sdk_error_code\":0}\\''), file: /tmp/tmp_wn75fiy/tmp4i8ylu_8\n"
     ]
    },
    {
     "name": "stdout",
     "output_type": "stream",
     "text": [
      "Epoch: 183/400... Loss: 0.000267... Val Loss: 0.000434\n",
      "Epoch: 184/400... Loss: 0.001036... Val Loss: 0.000434\n",
      "Validation loss decreased (0.000417 --> 0.000362).  Saving model ...\n",
      "Epoch: 185/400... Loss: 0.000145... Val Loss: 0.000362\n"
     ]
    },
    {
     "name": "stderr",
     "output_type": "stream",
     "text": [
      "\u001b[1;38;5;196mCOMET ERROR:\u001b[0m File upload failed: ValueError('Uploading file failed (500) with max retries: 4 on url \\'https://www.comet.com/clientlib/asset/upload\\': b\\'{\"msg\":\"unexpected error\",\"code\":500,\"data\":null,\"sdk_error_code\":0}\\''), file: /tmp/tmp_wn75fiy/tmpa6xk7xp2\n",
      "\u001b[1;38;5;196mCOMET ERROR:\u001b[0m File upload failed: ValueError('Uploading file failed (500) with max retries: 4 on url \\'https://www.comet.com/clientlib/asset/upload\\': b\\'{\"msg\":\"unexpected error\",\"code\":500,\"data\":null,\"sdk_error_code\":0}\\''), file: /tmp/tmp_wn75fiy/tmphrnrh__5\n"
     ]
    },
    {
     "name": "stdout",
     "output_type": "stream",
     "text": [
      "Epoch: 186/400... Loss: 0.000135... Val Loss: 0.000367\n",
      "Epoch: 187/400... Loss: 0.000284... Val Loss: 0.000491\n",
      "Epoch: 188/400... Loss: 0.000210... Val Loss: 0.000374\n",
      "Epoch: 189/400... Loss: 0.000408... Val Loss: 0.000458\n",
      "Epoch: 190/400... Loss: 0.000049... Val Loss: 0.000393\n",
      "Epoch: 191/400... Loss: 0.000529... Val Loss: 0.000385\n",
      "Epoch: 192/400... Loss: 0.000172... Val Loss: 0.000410\n",
      "Validation loss decreased (0.000362 --> 0.000358).  Saving model ...\n",
      "Epoch: 193/400... Loss: 0.000554... Val Loss: 0.000358\n",
      "Epoch: 194/400... Loss: 0.000400... Val Loss: 0.000618\n"
     ]
    },
    {
     "name": "stderr",
     "output_type": "stream",
     "text": [
      "\u001b[1;38;5;196mCOMET ERROR:\u001b[0m File upload failed: ValueError('Uploading file failed (500) with max retries: 4 on url \\'https://www.comet.com/clientlib/asset/upload\\': b\\'{\"msg\":\"unexpected error\",\"code\":500,\"data\":null,\"sdk_error_code\":0}\\''), file: /tmp/tmp_wn75fiy/tmpecwfc7fx\n",
      "\u001b[1;38;5;196mCOMET ERROR:\u001b[0m File upload failed: ValueError('Uploading file failed (500) with max retries: 4 on url \\'https://www.comet.com/clientlib/asset/upload\\': b\\'{\"msg\":\"unexpected error\",\"code\":500,\"data\":null,\"sdk_error_code\":0}\\''), file: /tmp/tmp_wn75fiy/tmp1silxfc1\n"
     ]
    },
    {
     "name": "stdout",
     "output_type": "stream",
     "text": [
      "Validation loss decreased (0.000358 --> 0.000343).  Saving model ...\n",
      "Epoch: 195/400... Loss: 0.000490... Val Loss: 0.000343\n"
     ]
    },
    {
     "name": "stderr",
     "output_type": "stream",
     "text": [
      "\u001b[1;38;5;196mCOMET ERROR:\u001b[0m File upload failed: ValueError('Uploading file failed (500) with max retries: 4 on url \\'https://www.comet.com/clientlib/asset/upload\\': b\\'{\"msg\":\"unexpected error\",\"code\":500,\"data\":null,\"sdk_error_code\":0}\\''), file: /tmp/tmp_wn75fiy/tmpywebpin1\n"
     ]
    },
    {
     "name": "stdout",
     "output_type": "stream",
     "text": [
      "Epoch: 196/400... Loss: 0.003887... Val Loss: 0.000347\n"
     ]
    },
    {
     "name": "stderr",
     "output_type": "stream",
     "text": [
      "\u001b[1;38;5;196mCOMET ERROR:\u001b[0m File upload failed: ValueError('Uploading file failed (500) with max retries: 4 on url \\'https://www.comet.com/clientlib/asset/upload\\': b\\'{\"msg\":\"unexpected error\",\"code\":500,\"data\":null,\"sdk_error_code\":0}\\''), file: /tmp/tmp_wn75fiy/tmp988tdykf\n"
     ]
    },
    {
     "name": "stdout",
     "output_type": "stream",
     "text": [
      "Epoch: 197/400... Loss: 0.001133... Val Loss: 0.000376\n",
      "Epoch: 198/400... Loss: 0.000161... Val Loss: 0.000363\n",
      "Epoch: 199/400... Loss: 0.000228... Val Loss: 0.000376\n",
      "Validation loss decreased (0.000343 --> 0.000270).  Saving model ...\n",
      "Epoch: 200/400... Loss: 0.000060... Val Loss: 0.000270\n"
     ]
    },
    {
     "name": "stderr",
     "output_type": "stream",
     "text": [
      "\u001b[1;38;5;196mCOMET ERROR:\u001b[0m File upload failed: ValueError('Uploading file failed (500) with max retries: 4 on url \\'https://www.comet.com/clientlib/asset/upload\\': b\\'{\"msg\":\"unexpected error\",\"code\":500,\"data\":null,\"sdk_error_code\":0}\\''), file: /tmp/tmp_wn75fiy/tmpvca9a_ir\n",
      "\u001b[1;38;5;196mCOMET ERROR:\u001b[0m File upload failed: ValueError('Uploading file failed (500) with max retries: 4 on url \\'https://www.comet.com/clientlib/asset/upload\\': b\\'{\"msg\":\"unexpected error\",\"code\":500,\"data\":null,\"sdk_error_code\":0}\\''), file: /tmp/tmp_wn75fiy/tmpn9vcrfka\n"
     ]
    },
    {
     "name": "stdout",
     "output_type": "stream",
     "text": [
      "Epoch: 201/400... Loss: 0.000065... Val Loss: 0.000284\n",
      "Epoch: 202/400... Loss: 0.000106... Val Loss: 0.000271\n",
      "Epoch: 203/400... Loss: 0.000295... Val Loss: 0.000360\n",
      "Epoch: 204/400... Loss: 0.000141... Val Loss: 0.000271\n",
      "Epoch: 205/400... Loss: 0.000687... Val Loss: 0.000387\n",
      "Epoch: 206/400... Loss: 0.000807... Val Loss: 0.000375\n",
      "Validation loss decreased (0.000270 --> 0.000261).  Saving model ...\n",
      "Epoch: 207/400... Loss: 0.000428... Val Loss: 0.000261\n"
     ]
    },
    {
     "name": "stderr",
     "output_type": "stream",
     "text": [
      "\u001b[1;38;5;196mCOMET ERROR:\u001b[0m File upload failed: ValueError('Uploading file failed (500) with max retries: 4 on url \\'https://www.comet.com/clientlib/asset/upload\\': b\\'{\"msg\":\"unexpected error\",\"code\":500,\"data\":null,\"sdk_error_code\":0}\\''), file: /tmp/tmp_wn75fiy/tmpcx8b41vo\n",
      "\u001b[1;38;5;196mCOMET ERROR:\u001b[0m File upload failed: ValueError('Uploading file failed (500) with max retries: 4 on url \\'https://www.comet.com/clientlib/asset/upload\\': b\\'{\"msg\":\"unexpected error\",\"code\":500,\"data\":null,\"sdk_error_code\":0}\\''), file: /tmp/tmp_wn75fiy/tmppm5jomzw\n"
     ]
    },
    {
     "name": "stdout",
     "output_type": "stream",
     "text": [
      "Epoch: 208/400... Loss: 0.000317... Val Loss: 0.000265\n",
      "Validation loss decreased (0.000261 --> 0.000250).  Saving model ...\n",
      "Epoch: 209/400... Loss: 0.000285... Val Loss: 0.000250\n"
     ]
    },
    {
     "name": "stderr",
     "output_type": "stream",
     "text": [
      "\u001b[1;38;5;196mCOMET ERROR:\u001b[0m File upload failed: ValueError('Uploading file failed (500) with max retries: 4 on url \\'https://www.comet.com/clientlib/asset/upload\\': b\\'{\"msg\":\"unexpected error\",\"code\":500,\"data\":null,\"sdk_error_code\":0}\\''), file: /tmp/tmp_wn75fiy/tmplhjlpzoh\n",
      "\u001b[1;38;5;196mCOMET ERROR:\u001b[0m File upload failed: ValueError('Uploading file failed (500) with max retries: 4 on url \\'https://www.comet.com/clientlib/asset/upload\\': b\\'{\"msg\":\"unexpected error\",\"code\":500,\"data\":null,\"sdk_error_code\":0}\\''), file: /tmp/tmp_wn75fiy/tmpeeg4j8dw\n"
     ]
    },
    {
     "name": "stdout",
     "output_type": "stream",
     "text": [
      "Epoch: 210/400... Loss: 0.000213... Val Loss: 0.000260\n",
      "Epoch: 211/400... Loss: 0.000174... Val Loss: 0.000272\n",
      "Epoch: 212/400... Loss: 0.000220... Val Loss: 0.000268\n",
      "Epoch: 213/400... Loss: 0.000081... Val Loss: 0.000261\n",
      "Epoch: 214/400... Loss: 0.000873... Val Loss: 0.000266\n",
      "Epoch: 215/400... Loss: 0.000303... Val Loss: 0.000252\n",
      "Epoch: 216/400... Loss: 0.000086... Val Loss: 0.000262\n",
      "Validation loss decreased (0.000250 --> 0.000244).  Saving model ...\n",
      "Epoch: 217/400... Loss: 0.000077... Val Loss: 0.000244\n",
      "Epoch: 218/400... Loss: 0.000273... Val Loss: 0.000245\n"
     ]
    },
    {
     "name": "stderr",
     "output_type": "stream",
     "text": [
      "\u001b[1;38;5;196mCOMET ERROR:\u001b[0m File upload failed: ValueError('Uploading file failed (500) with max retries: 4 on url \\'https://www.comet.com/clientlib/asset/upload\\': b\\'{\"msg\":\"unexpected error\",\"code\":500,\"data\":null,\"sdk_error_code\":0}\\''), file: /tmp/tmp_wn75fiy/tmpe4m1c5lt\n",
      "\u001b[1;38;5;196mCOMET ERROR:\u001b[0m File upload failed: ValueError('Uploading file failed (500) with max retries: 4 on url \\'https://www.comet.com/clientlib/asset/upload\\': b\\'{\"msg\":\"unexpected error\",\"code\":500,\"data\":null,\"sdk_error_code\":0}\\''), file: /tmp/tmp_wn75fiy/tmpvkh1obh3\n"
     ]
    },
    {
     "name": "stdout",
     "output_type": "stream",
     "text": [
      "Epoch: 219/400... Loss: 0.000926... Val Loss: 0.000245\n",
      "Validation loss decreased (0.000244 --> 0.000222).  Saving model ...\n",
      "Epoch: 220/400... Loss: 0.000801... Val Loss: 0.000222\n",
      "Epoch: 221/400... Loss: 0.000080... Val Loss: 0.000250\n"
     ]
    },
    {
     "name": "stderr",
     "output_type": "stream",
     "text": [
      "\u001b[1;38;5;196mCOMET ERROR:\u001b[0m File upload failed: ValueError('Uploading file failed (500) with max retries: 4 on url \\'https://www.comet.com/clientlib/asset/upload\\': b\\'{\"msg\":\"unexpected error\",\"code\":500,\"data\":null,\"sdk_error_code\":0}\\''), file: /tmp/tmp_wn75fiy/tmpcbowq6jy\n",
      "\u001b[1;38;5;196mCOMET ERROR:\u001b[0m File upload failed: ValueError('Uploading file failed (500) with max retries: 4 on url \\'https://www.comet.com/clientlib/asset/upload\\': b\\'{\"msg\":\"unexpected error\",\"code\":500,\"data\":null,\"sdk_error_code\":0}\\''), file: /tmp/tmp_wn75fiy/tmpe7w8b2_n\n"
     ]
    },
    {
     "name": "stdout",
     "output_type": "stream",
     "text": [
      "Validation loss decreased (0.000222 --> 0.000220).  Saving model ...\n",
      "Epoch: 222/400... Loss: 0.000178... Val Loss: 0.000220\n",
      "Epoch: 223/400... Loss: 0.000269... Val Loss: 0.000236\n"
     ]
    },
    {
     "name": "stderr",
     "output_type": "stream",
     "text": [
      "\u001b[1;38;5;196mCOMET ERROR:\u001b[0m File upload failed: ValueError('Uploading file failed (500) with max retries: 4 on url \\'https://www.comet.com/clientlib/asset/upload\\': b\\'{\"msg\":\"unexpected error\",\"code\":500,\"data\":null,\"sdk_error_code\":0}\\''), file: /tmp/tmp_wn75fiy/tmp9cq846ke\n",
      "\u001b[1;38;5;196mCOMET ERROR:\u001b[0m File upload failed: ValueError('Uploading file failed (500) with max retries: 4 on url \\'https://www.comet.com/clientlib/asset/upload\\': b\\'{\"msg\":\"unexpected error\",\"code\":500,\"data\":null,\"sdk_error_code\":0}\\''), file: /tmp/tmp_wn75fiy/tmp2ibwrnrn\n"
     ]
    },
    {
     "name": "stdout",
     "output_type": "stream",
     "text": [
      "Epoch: 224/400... Loss: 0.000145... Val Loss: 0.000242\n",
      "Epoch: 225/400... Loss: 0.000135... Val Loss: 0.000245\n",
      "Epoch: 226/400... Loss: 0.000142... Val Loss: 0.000252\n",
      "Epoch: 227/400... Loss: 0.000175... Val Loss: 0.000239\n",
      "Validation loss decreased (0.000220 --> 0.000212).  Saving model ...\n",
      "Epoch: 228/400... Loss: 0.000743... Val Loss: 0.000212\n",
      "Epoch: 229/400... Loss: 0.000092... Val Loss: 0.000271\n"
     ]
    },
    {
     "name": "stderr",
     "output_type": "stream",
     "text": [
      "\u001b[1;38;5;196mCOMET ERROR:\u001b[0m File upload failed: ValueError('Uploading file failed (500) with max retries: 4 on url \\'https://www.comet.com/clientlib/asset/upload\\': b\\'{\"msg\":\"unexpected error\",\"code\":500,\"data\":null,\"sdk_error_code\":0}\\''), file: /tmp/tmp_wn75fiy/tmp4egwgpze\n",
      "\u001b[1;38;5;196mCOMET ERROR:\u001b[0m File upload failed: ValueError('Uploading file failed (500) with max retries: 4 on url \\'https://www.comet.com/clientlib/asset/upload\\': b\\'{\"msg\":\"unexpected error\",\"code\":500,\"data\":null,\"sdk_error_code\":0}\\''), file: /tmp/tmp_wn75fiy/tmp1iy2ftbq\n"
     ]
    },
    {
     "name": "stdout",
     "output_type": "stream",
     "text": [
      "Epoch: 230/400... Loss: 0.000204... Val Loss: 0.000239\n",
      "Epoch: 231/400... Loss: 0.000127... Val Loss: 0.000227\n",
      "Epoch: 232/400... Loss: 0.000168... Val Loss: 0.000218\n",
      "Epoch: 233/400... Loss: 0.000286... Val Loss: 0.000254\n",
      "Epoch: 234/400... Loss: 0.000069... Val Loss: 0.000221\n",
      "Epoch: 235/400... Loss: 0.000190... Val Loss: 0.000243\n",
      "Validation loss decreased (0.000212 --> 0.000211).  Saving model ...\n",
      "Epoch: 236/400... Loss: 0.000172... Val Loss: 0.000211\n"
     ]
    },
    {
     "name": "stderr",
     "output_type": "stream",
     "text": [
      "\u001b[1;38;5;196mCOMET ERROR:\u001b[0m File upload failed: ValueError('Uploading file failed (500) with max retries: 4 on url \\'https://www.comet.com/clientlib/asset/upload\\': b\\'{\"msg\":\"unexpected error\",\"code\":500,\"data\":null,\"sdk_error_code\":0}\\''), file: /tmp/tmp_wn75fiy/tmp4g7dorfw\n",
      "\u001b[1;38;5;196mCOMET ERROR:\u001b[0m File upload failed: ValueError('Uploading file failed (500) with max retries: 4 on url \\'https://www.comet.com/clientlib/asset/upload\\': b\\'{\"msg\":\"unexpected error\",\"code\":500,\"data\":null,\"sdk_error_code\":0}\\''), file: /tmp/tmp_wn75fiy/tmp9xnubtie\n"
     ]
    },
    {
     "name": "stdout",
     "output_type": "stream",
     "text": [
      "Epoch: 237/400... Loss: 0.000448... Val Loss: 0.000244\n",
      "Epoch: 238/400... Loss: 0.000297... Val Loss: 0.000250\n",
      "Epoch: 239/400... Loss: 0.000035... Val Loss: 0.000238\n",
      "Epoch: 240/400... Loss: 0.000161... Val Loss: 0.000218\n",
      "Validation loss decreased (0.000211 --> 0.000199).  Saving model ...\n",
      "Epoch: 241/400... Loss: 0.000388... Val Loss: 0.000199\n"
     ]
    },
    {
     "name": "stderr",
     "output_type": "stream",
     "text": [
      "\u001b[1;38;5;196mCOMET ERROR:\u001b[0m File upload failed: ValueError('Uploading file failed (500) with max retries: 4 on url \\'https://www.comet.com/clientlib/asset/upload\\': b\\'{\"msg\":\"unexpected error\",\"code\":500,\"data\":null,\"sdk_error_code\":0}\\''), file: /tmp/tmp_wn75fiy/tmphr3z6ava\n",
      "\u001b[1;38;5;196mCOMET ERROR:\u001b[0m File upload failed: ValueError('Uploading file failed (500) with max retries: 4 on url \\'https://www.comet.com/clientlib/asset/upload\\': b\\'{\"msg\":\"unexpected error\",\"code\":500,\"data\":null,\"sdk_error_code\":0}\\''), file: /tmp/tmp_wn75fiy/tmpqfc_ugns\n"
     ]
    },
    {
     "name": "stdout",
     "output_type": "stream",
     "text": [
      "Epoch: 242/400... Loss: 0.000188... Val Loss: 0.000205\n",
      "Epoch: 243/400... Loss: 0.000289... Val Loss: 0.000205\n",
      "Epoch: 244/400... Loss: 0.000469... Val Loss: 0.000200\n",
      "Validation loss decreased (0.000199 --> 0.000198).  Saving model ...\n",
      "Epoch: 245/400... Loss: 0.000193... Val Loss: 0.000198\n",
      "Epoch: 246/400... Loss: 0.000340... Val Loss: 0.000201\n"
     ]
    },
    {
     "name": "stderr",
     "output_type": "stream",
     "text": [
      "\u001b[1;38;5;196mCOMET ERROR:\u001b[0m File upload failed: ValueError('Uploading file failed (500) with max retries: 4 on url \\'https://www.comet.com/clientlib/asset/upload\\': b\\'{\"msg\":\"unexpected error\",\"code\":500,\"data\":null,\"sdk_error_code\":0}\\''), file: /tmp/tmp_wn75fiy/tmp7cdnwd2m\n",
      "\u001b[1;38;5;196mCOMET ERROR:\u001b[0m File upload failed: ValueError('Uploading file failed (500) with max retries: 4 on url \\'https://www.comet.com/clientlib/asset/upload\\': b\\'{\"msg\":\"unexpected error\",\"code\":500,\"data\":null,\"sdk_error_code\":0}\\''), file: /tmp/tmp_wn75fiy/tmp1elk0r46\n"
     ]
    },
    {
     "name": "stdout",
     "output_type": "stream",
     "text": [
      "Epoch: 247/400... Loss: 0.000064... Val Loss: 0.000230\n",
      "Epoch: 248/400... Loss: 0.000053... Val Loss: 0.000214\n",
      "Epoch: 249/400... Loss: 0.000071... Val Loss: 0.000205\n",
      "Validation loss decreased (0.000198 --> 0.000193).  Saving model ...\n",
      "Epoch: 250/400... Loss: 0.000116... Val Loss: 0.000193\n",
      "Validation loss decreased (0.000193 --> 0.000189).  Saving model ...\n",
      "Epoch: 251/400... Loss: 0.000441... Val Loss: 0.000189\n"
     ]
    },
    {
     "name": "stderr",
     "output_type": "stream",
     "text": [
      "\u001b[1;38;5;196mCOMET ERROR:\u001b[0m File upload failed: ValueError('Uploading file failed (500) with max retries: 4 on url \\'https://www.comet.com/clientlib/asset/upload\\': b\\'{\"msg\":\"unexpected error\",\"code\":500,\"data\":null,\"sdk_error_code\":0}\\''), file: /tmp/tmp_wn75fiy/tmp58f_c09z\n",
      "\u001b[1;38;5;196mCOMET ERROR:\u001b[0m File upload failed: ValueError('Uploading file failed (500) with max retries: 4 on url \\'https://www.comet.com/clientlib/asset/upload\\': b\\'{\"msg\":\"unexpected error\",\"code\":500,\"data\":null,\"sdk_error_code\":0}\\''), file: /tmp/tmp_wn75fiy/tmpd7vg5vn2\n"
     ]
    },
    {
     "name": "stdout",
     "output_type": "stream",
     "text": [
      "Validation loss decreased (0.000189 --> 0.000188).  Saving model ...\n",
      "Epoch: 252/400... Loss: 0.000357... Val Loss: 0.000188\n"
     ]
    },
    {
     "name": "stderr",
     "output_type": "stream",
     "text": [
      "\u001b[1;38;5;196mCOMET ERROR:\u001b[0m File upload failed: ValueError('Uploading file failed (500) with max retries: 4 on url \\'https://www.comet.com/clientlib/asset/upload\\': b\\'{\"msg\":\"unexpected error\",\"code\":500,\"data\":null,\"sdk_error_code\":0}\\''), file: /tmp/tmp_wn75fiy/tmp831da5yu\n",
      "\u001b[1;38;5;196mCOMET ERROR:\u001b[0m File upload failed: ValueError('Uploading file failed (500) with max retries: 4 on url \\'https://www.comet.com/clientlib/asset/upload\\': b\\'{\"msg\":\"unexpected error\",\"code\":500,\"data\":null,\"sdk_error_code\":0}\\''), file: /tmp/tmp_wn75fiy/tmp16wajaup\n"
     ]
    },
    {
     "name": "stdout",
     "output_type": "stream",
     "text": [
      "Epoch: 253/400... Loss: 0.000317... Val Loss: 0.000192\n"
     ]
    },
    {
     "name": "stderr",
     "output_type": "stream",
     "text": [
      "\u001b[1;38;5;196mCOMET ERROR:\u001b[0m File upload failed: ValueError('Uploading file failed (500) with max retries: 4 on url \\'https://www.comet.com/clientlib/asset/upload\\': b\\'{\"msg\":\"unexpected error\",\"code\":500,\"data\":null,\"sdk_error_code\":0}\\''), file: /tmp/tmp_wn75fiy/tmpben1repw\n",
      "\u001b[1;38;5;196mCOMET ERROR:\u001b[0m File upload failed: ValueError('Uploading file failed (500) with max retries: 4 on url \\'https://www.comet.com/clientlib/asset/upload\\': b\\'{\"msg\":\"unexpected error\",\"code\":500,\"data\":null,\"sdk_error_code\":0}\\''), file: /tmp/tmp_wn75fiy/tmpi0wosmkc\n"
     ]
    },
    {
     "name": "stdout",
     "output_type": "stream",
     "text": [
      "Epoch: 254/400... Loss: 0.000087... Val Loss: 0.000190\n",
      "Epoch: 255/400... Loss: 0.000998... Val Loss: 0.000195\n",
      "Epoch: 256/400... Loss: 0.000705... Val Loss: 0.000191\n",
      "Epoch: 257/400... Loss: 0.000350... Val Loss: 0.000213\n",
      "Epoch: 258/400... Loss: 0.000068... Val Loss: 0.000200\n",
      "Epoch: 259/400... Loss: 0.000144... Val Loss: 0.000218\n",
      "Epoch: 260/400... Loss: 0.000437... Val Loss: 0.000199\n",
      "Validation loss decreased (0.000188 --> 0.000185).  Saving model ...\n",
      "Epoch: 261/400... Loss: 0.000038... Val Loss: 0.000185\n",
      "Epoch: 262/400... Loss: 0.000432... Val Loss: 0.000194\n"
     ]
    },
    {
     "name": "stderr",
     "output_type": "stream",
     "text": [
      "\u001b[1;38;5;196mCOMET ERROR:\u001b[0m File upload failed: ValueError('Uploading file failed (500) with max retries: 4 on url \\'https://www.comet.com/clientlib/asset/upload\\': b\\'{\"msg\":\"unexpected error\",\"code\":500,\"data\":null,\"sdk_error_code\":0}\\''), file: /tmp/tmp_wn75fiy/tmpldklvsip\n",
      "\u001b[1;38;5;196mCOMET ERROR:\u001b[0m File upload failed: ValueError('Uploading file failed (500) with max retries: 4 on url \\'https://www.comet.com/clientlib/asset/upload\\': b\\'{\"msg\":\"unexpected error\",\"code\":500,\"data\":null,\"sdk_error_code\":0}\\''), file: /tmp/tmp_wn75fiy/tmpsr4nz9n9\n"
     ]
    },
    {
     "name": "stdout",
     "output_type": "stream",
     "text": [
      "Epoch: 263/400... Loss: 0.000402... Val Loss: 0.000199\n",
      "Epoch: 264/400... Loss: 0.000419... Val Loss: 0.000212\n",
      "Epoch: 265/400... Loss: 0.000093... Val Loss: 0.000215\n",
      "Epoch: 266/400... Loss: 0.000151... Val Loss: 0.000203\n",
      "Epoch: 267/400... Loss: 0.000042... Val Loss: 0.000221\n",
      "Validation loss decreased (0.000185 --> 0.000182).  Saving model ...\n",
      "Epoch: 268/400... Loss: 0.000032... Val Loss: 0.000182\n",
      "Epoch: 269/400... Loss: 0.000125... Val Loss: 0.000198\n"
     ]
    },
    {
     "name": "stderr",
     "output_type": "stream",
     "text": [
      "\u001b[1;38;5;196mCOMET ERROR:\u001b[0m File upload failed: ValueError('Uploading file failed (500) with max retries: 4 on url \\'https://www.comet.com/clientlib/asset/upload\\': b\\'{\"msg\":\"unexpected error\",\"code\":500,\"data\":null,\"sdk_error_code\":0}\\''), file: /tmp/tmp_wn75fiy/tmpaxv5sg1m\n",
      "\u001b[1;38;5;196mCOMET ERROR:\u001b[0m File upload failed: ValueError('Uploading file failed (500) with max retries: 4 on url \\'https://www.comet.com/clientlib/asset/upload\\': b\\'{\"msg\":\"unexpected error\",\"code\":500,\"data\":null,\"sdk_error_code\":0}\\''), file: /tmp/tmp_wn75fiy/tmp0j8f_fln\n"
     ]
    },
    {
     "name": "stdout",
     "output_type": "stream",
     "text": [
      "Epoch: 270/400... Loss: 0.000083... Val Loss: 0.000187\n",
      "Epoch: 271/400... Loss: 0.000388... Val Loss: 0.000189\n",
      "Epoch: 272/400... Loss: 0.000329... Val Loss: 0.000188\n",
      "Epoch: 273/400... Loss: 0.000106... Val Loss: 0.000197\n",
      "Validation loss decreased (0.000182 --> 0.000177).  Saving model ...\n",
      "Epoch: 274/400... Loss: 0.000083... Val Loss: 0.000177\n",
      "Epoch: 275/400... Loss: 0.000203... Val Loss: 0.000187\n"
     ]
    },
    {
     "name": "stderr",
     "output_type": "stream",
     "text": [
      "\u001b[1;38;5;196mCOMET ERROR:\u001b[0m File upload failed: ValueError('Uploading file failed (500) with max retries: 4 on url \\'https://www.comet.com/clientlib/asset/upload\\': b\\'{\"msg\":\"unexpected error\",\"code\":500,\"data\":null,\"sdk_error_code\":0}\\''), file: /tmp/tmp_wn75fiy/tmpuiedoci5\n",
      "\u001b[1;38;5;196mCOMET ERROR:\u001b[0m File upload failed: ValueError('Uploading file failed (500) with max retries: 4 on url \\'https://www.comet.com/clientlib/asset/upload\\': b\\'{\"msg\":\"unexpected error\",\"code\":500,\"data\":null,\"sdk_error_code\":0}\\''), file: /tmp/tmp_wn75fiy/tmptanfmcr7\n"
     ]
    },
    {
     "name": "stdout",
     "output_type": "stream",
     "text": [
      "Epoch: 276/400... Loss: 0.000339... Val Loss: 0.000207\n",
      "Epoch: 277/400... Loss: 0.000064... Val Loss: 0.000189\n",
      "Epoch: 278/400... Loss: 0.000085... Val Loss: 0.000191\n",
      "Epoch: 279/400... Loss: 0.000221... Val Loss: 0.000211\n",
      "Epoch: 280/400... Loss: 0.000092... Val Loss: 0.000246\n",
      "Epoch: 281/400... Loss: 0.000091... Val Loss: 0.000210\n",
      "Epoch: 282/400... Loss: 0.000166... Val Loss: 0.000198\n",
      "Epoch: 283/400... Loss: 0.000025... Val Loss: 0.000182\n",
      "Epoch: 284/400... Loss: 0.000292... Val Loss: 0.000199\n",
      "Epoch: 285/400... Loss: 0.000476... Val Loss: 0.000216\n",
      "Epoch: 286/400... Loss: 0.000239... Val Loss: 0.000219\n",
      "Epoch: 287/400... Loss: 0.000088... Val Loss: 0.000185\n",
      "Epoch: 288/400... Loss: 0.000284... Val Loss: 0.000186\n",
      "Epoch: 289/400... Loss: 0.000129... Val Loss: 0.000187\n",
      "Epoch: 290/400... Loss: 0.000108... Val Loss: 0.000198\n",
      "Epoch: 291/400... Loss: 0.000128... Val Loss: 0.000193\n",
      "Epoch: 292/400... Loss: 0.000151... Val Loss: 0.000217\n",
      "Epoch: 293/400... Loss: 0.000408... Val Loss: 0.000189\n",
      "Epoch: 294/400... Loss: 0.003573... Val Loss: 0.000177\n",
      "Epoch: 295/400... Loss: 0.000099... Val Loss: 0.000205\n",
      "Epoch: 296/400... Loss: 0.000216... Val Loss: 0.000212\n",
      "Validation loss decreased (0.000177 --> 0.000172).  Saving model ...\n",
      "Epoch: 297/400... Loss: 0.000250... Val Loss: 0.000172\n",
      "Epoch: 298/400... Loss: 0.000353... Val Loss: 0.000176\n"
     ]
    },
    {
     "name": "stderr",
     "output_type": "stream",
     "text": [
      "\u001b[1;38;5;196mCOMET ERROR:\u001b[0m File upload failed: ValueError('Uploading file failed (500) with max retries: 4 on url \\'https://www.comet.com/clientlib/asset/upload\\': b\\'{\"msg\":\"unexpected error\",\"code\":500,\"data\":null,\"sdk_error_code\":0}\\''), file: /tmp/tmp_wn75fiy/tmpckr7vidw\n",
      "\u001b[1;38;5;196mCOMET ERROR:\u001b[0m File upload failed: ValueError('Uploading file failed (500) with max retries: 4 on url \\'https://www.comet.com/clientlib/asset/upload\\': b\\'{\"msg\":\"unexpected error\",\"code\":500,\"data\":null,\"sdk_error_code\":0}\\''), file: /tmp/tmp_wn75fiy/tmp7xn2kfpw\n"
     ]
    },
    {
     "name": "stdout",
     "output_type": "stream",
     "text": [
      "Epoch: 299/400... Loss: 0.000237... Val Loss: 0.000226\n",
      "Epoch: 300/400... Loss: 0.000629... Val Loss: 0.000174\n",
      "Epoch: 301/400... Loss: 0.000336... Val Loss: 0.000196\n",
      "Epoch: 302/400... Loss: 0.000074... Val Loss: 0.000181\n",
      "Epoch: 303/400... Loss: 0.000345... Val Loss: 0.000240\n",
      "Epoch: 304/400... Loss: 0.000089... Val Loss: 0.000173\n",
      "Epoch: 305/400... Loss: 0.000342... Val Loss: 0.000176\n",
      "Epoch: 306/400... Loss: 0.000038... Val Loss: 0.000173\n",
      "Validation loss decreased (0.000172 --> 0.000168).  Saving model ...\n",
      "Epoch: 307/400... Loss: 0.000167... Val Loss: 0.000168\n",
      "Validation loss decreased (0.000168 --> 0.000165).  Saving model ...\n",
      "Epoch: 308/400... Loss: 0.000424... Val Loss: 0.000165\n"
     ]
    },
    {
     "name": "stderr",
     "output_type": "stream",
     "text": [
      "\u001b[1;38;5;196mCOMET ERROR:\u001b[0m File upload failed: ValueError('Uploading file failed (500) with max retries: 4 on url \\'https://www.comet.com/clientlib/asset/upload\\': b\\'{\"msg\":\"unexpected error\",\"code\":500,\"data\":null,\"sdk_error_code\":0}\\''), file: /tmp/tmp_wn75fiy/tmprni5qlvr\n",
      "\u001b[1;38;5;196mCOMET ERROR:\u001b[0m File upload failed: ValueError('Uploading file failed (500) with max retries: 4 on url \\'https://www.comet.com/clientlib/asset/upload\\': b\\'{\"msg\":\"unexpected error\",\"code\":500,\"data\":null,\"sdk_error_code\":0}\\''), file: /tmp/tmp_wn75fiy/tmpmire5ju8\n"
     ]
    },
    {
     "name": "stdout",
     "output_type": "stream",
     "text": [
      "Epoch: 309/400... Loss: 0.000188... Val Loss: 0.000180\n"
     ]
    },
    {
     "name": "stderr",
     "output_type": "stream",
     "text": [
      "\u001b[1;38;5;196mCOMET ERROR:\u001b[0m File upload failed: ValueError('Uploading file failed (500) with max retries: 4 on url \\'https://www.comet.com/clientlib/asset/upload\\': b\\'{\"msg\":\"unexpected error\",\"code\":500,\"data\":null,\"sdk_error_code\":0}\\''), file: /tmp/tmp_wn75fiy/tmpqvn_beck\n",
      "\u001b[1;38;5;196mCOMET ERROR:\u001b[0m File upload failed: ValueError('Uploading file failed (500) with max retries: 4 on url \\'https://www.comet.com/clientlib/asset/upload\\': b\\'{\"msg\":\"unexpected error\",\"code\":500,\"data\":null,\"sdk_error_code\":0}\\''), file: /tmp/tmp_wn75fiy/tmplrkvuljj\n"
     ]
    },
    {
     "name": "stdout",
     "output_type": "stream",
     "text": [
      "Epoch: 310/400... Loss: 0.000424... Val Loss: 0.000166\n",
      "Validation loss decreased (0.000165 --> 0.000162).  Saving model ...\n",
      "Epoch: 311/400... Loss: 0.000731... Val Loss: 0.000162\n",
      "Epoch: 312/400... Loss: 0.000184... Val Loss: 0.000210\n"
     ]
    },
    {
     "name": "stderr",
     "output_type": "stream",
     "text": [
      "\u001b[1;38;5;196mCOMET ERROR:\u001b[0m File upload failed: ValueError('Uploading file failed (500) with max retries: 4 on url \\'https://www.comet.com/clientlib/asset/upload\\': b\\'{\"msg\":\"unexpected error\",\"code\":500,\"data\":null,\"sdk_error_code\":0}\\''), file: /tmp/tmp_wn75fiy/tmpi_xxw0um\n",
      "\u001b[1;38;5;196mCOMET ERROR:\u001b[0m File upload failed: ValueError('Uploading file failed (500) with max retries: 4 on url \\'https://www.comet.com/clientlib/asset/upload\\': b\\'{\"msg\":\"unexpected error\",\"code\":500,\"data\":null,\"sdk_error_code\":0}\\''), file: /tmp/tmp_wn75fiy/tmplxjv9od5\n"
     ]
    },
    {
     "name": "stdout",
     "output_type": "stream",
     "text": [
      "Epoch: 313/400... Loss: 0.001536... Val Loss: 0.000185\n",
      "Validation loss decreased (0.000162 --> 0.000158).  Saving model ...\n",
      "Epoch: 314/400... Loss: 0.000030... Val Loss: 0.000158\n",
      "Epoch: 315/400... Loss: 0.000159... Val Loss: 0.000186\n"
     ]
    },
    {
     "name": "stderr",
     "output_type": "stream",
     "text": [
      "\u001b[1;38;5;196mCOMET ERROR:\u001b[0m File upload failed: ValueError('Uploading file failed (500) with max retries: 4 on url \\'https://www.comet.com/clientlib/asset/upload\\': b\\'{\"msg\":\"unexpected error\",\"code\":500,\"data\":null,\"sdk_error_code\":0}\\''), file: /tmp/tmp_wn75fiy/tmpj0s8etj2\n",
      "\u001b[1;38;5;196mCOMET ERROR:\u001b[0m File upload failed: ValueError('Uploading file failed (500) with max retries: 4 on url \\'https://www.comet.com/clientlib/asset/upload\\': b\\'{\"msg\":\"unexpected error\",\"code\":500,\"data\":null,\"sdk_error_code\":0}\\''), file: /tmp/tmp_wn75fiy/tmpdq1_bejg\n"
     ]
    },
    {
     "name": "stdout",
     "output_type": "stream",
     "text": [
      "Validation loss decreased (0.000158 --> 0.000153).  Saving model ...\n",
      "Epoch: 316/400... Loss: 0.000111... Val Loss: 0.000153\n",
      "Epoch: 317/400... Loss: 0.000160... Val Loss: 0.000180\n"
     ]
    },
    {
     "name": "stderr",
     "output_type": "stream",
     "text": [
      "\u001b[1;38;5;196mCOMET ERROR:\u001b[0m File upload failed: ValueError('Uploading file failed (500) with max retries: 4 on url \\'https://www.comet.com/clientlib/asset/upload\\': b\\'{\"msg\":\"unexpected error\",\"code\":500,\"data\":null,\"sdk_error_code\":0}\\''), file: /tmp/tmp_wn75fiy/tmpciy2hsag\n",
      "\u001b[1;38;5;196mCOMET ERROR:\u001b[0m File upload failed: ValueError('Uploading file failed (500) with max retries: 4 on url \\'https://www.comet.com/clientlib/asset/upload\\': b\\'{\"msg\":\"unexpected error\",\"code\":500,\"data\":null,\"sdk_error_code\":0}\\''), file: /tmp/tmp_wn75fiy/tmp562w1mnc\n"
     ]
    },
    {
     "name": "stdout",
     "output_type": "stream",
     "text": [
      "Epoch: 318/400... Loss: 0.000240... Val Loss: 0.000172\n",
      "Epoch: 319/400... Loss: 0.000066... Val Loss: 0.000184\n",
      "Epoch: 320/400... Loss: 0.000236... Val Loss: 0.000163\n",
      "Epoch: 321/400... Loss: 0.000032... Val Loss: 0.000178\n",
      "Epoch: 322/400... Loss: 0.000229... Val Loss: 0.000155\n",
      "Epoch: 323/400... Loss: 0.000327... Val Loss: 0.000177\n",
      "Validation loss decreased (0.000153 --> 0.000153).  Saving model ...\n",
      "Epoch: 324/400... Loss: 0.000035... Val Loss: 0.000153\n",
      "Epoch: 325/400... Loss: 0.000316... Val Loss: 0.000161\n"
     ]
    },
    {
     "name": "stderr",
     "output_type": "stream",
     "text": [
      "\u001b[1;38;5;196mCOMET ERROR:\u001b[0m File upload failed: ValueError('Uploading file failed (500) with max retries: 4 on url \\'https://www.comet.com/clientlib/asset/upload\\': b\\'{\"msg\":\"unexpected error\",\"code\":500,\"data\":null,\"sdk_error_code\":0}\\''), file: /tmp/tmp_wn75fiy/tmpffz_gu3_\n",
      "\u001b[1;38;5;196mCOMET ERROR:\u001b[0m File upload failed: ValueError('Uploading file failed (500) with max retries: 4 on url \\'https://www.comet.com/clientlib/asset/upload\\': b\\'{\"msg\":\"unexpected error\",\"code\":500,\"data\":null,\"sdk_error_code\":0}\\''), file: /tmp/tmp_wn75fiy/tmpg2f7jwg4\n"
     ]
    },
    {
     "name": "stdout",
     "output_type": "stream",
     "text": [
      "Epoch: 326/400... Loss: 0.000084... Val Loss: 0.000174\n",
      "Validation loss decreased (0.000153 --> 0.000149).  Saving model ...\n",
      "Epoch: 327/400... Loss: 0.000149... Val Loss: 0.000149\n",
      "Epoch: 328/400... Loss: 0.000250... Val Loss: 0.000174\n"
     ]
    },
    {
     "name": "stderr",
     "output_type": "stream",
     "text": [
      "\u001b[1;38;5;196mCOMET ERROR:\u001b[0m File upload failed: ValueError('Uploading file failed (500) with max retries: 4 on url \\'https://www.comet.com/clientlib/asset/upload\\': b\\'{\"msg\":\"unexpected error\",\"code\":500,\"data\":null,\"sdk_error_code\":0}\\''), file: /tmp/tmp_wn75fiy/tmp5il2km2r\n",
      "\u001b[1;38;5;196mCOMET ERROR:\u001b[0m File upload failed: ValueError('Uploading file failed (500) with max retries: 4 on url \\'https://www.comet.com/clientlib/asset/upload\\': b\\'{\"msg\":\"unexpected error\",\"code\":500,\"data\":null,\"sdk_error_code\":0}\\''), file: /tmp/tmp_wn75fiy/tmpnb7zqaq5\n"
     ]
    },
    {
     "name": "stdout",
     "output_type": "stream",
     "text": [
      "Epoch: 329/400... Loss: 0.000187... Val Loss: 0.000195\n",
      "Epoch: 330/400... Loss: 0.000058... Val Loss: 0.000176\n",
      "Epoch: 331/400... Loss: 0.000047... Val Loss: 0.000157\n",
      "Epoch: 332/400... Loss: 0.000121... Val Loss: 0.000149\n",
      "Epoch: 333/400... Loss: 0.000169... Val Loss: 0.000156\n",
      "Epoch: 334/400... Loss: 0.000223... Val Loss: 0.000154\n",
      "Epoch: 335/400... Loss: 0.000077... Val Loss: 0.000150\n",
      "Epoch: 336/400... Loss: 0.000164... Val Loss: 0.000174\n",
      "Epoch: 337/400... Loss: 0.000178... Val Loss: 0.000150\n",
      "Epoch: 338/400... Loss: 0.000141... Val Loss: 0.000155\n",
      "Validation loss decreased (0.000149 --> 0.000146).  Saving model ...\n",
      "Epoch: 339/400... Loss: 0.000232... Val Loss: 0.000146\n",
      "Validation loss decreased (0.000146 --> 0.000140).  Saving model ...\n",
      "Epoch: 340/400... Loss: 0.000085... Val Loss: 0.000140\n"
     ]
    },
    {
     "name": "stderr",
     "output_type": "stream",
     "text": [
      "\u001b[1;38;5;196mCOMET ERROR:\u001b[0m File upload failed: ValueError('Uploading file failed (500) with max retries: 4 on url \\'https://www.comet.com/clientlib/asset/upload\\': b\\'{\"msg\":\"unexpected error\",\"code\":500,\"data\":null,\"sdk_error_code\":0}\\''), file: /tmp/tmp_wn75fiy/tmpc9x7n0k1\n",
      "\u001b[1;38;5;196mCOMET ERROR:\u001b[0m File upload failed: ValueError('Uploading file failed (500) with max retries: 4 on url \\'https://www.comet.com/clientlib/asset/upload\\': b\\'{\"msg\":\"unexpected error\",\"code\":500,\"data\":null,\"sdk_error_code\":0}\\''), file: /tmp/tmp_wn75fiy/tmp07_7lruc\n"
     ]
    },
    {
     "name": "stdout",
     "output_type": "stream",
     "text": [
      "Validation loss decreased (0.000140 --> 0.000138).  Saving model ...\n",
      "Epoch: 341/400... Loss: 0.000130... Val Loss: 0.000138\n"
     ]
    },
    {
     "name": "stderr",
     "output_type": "stream",
     "text": [
      "\u001b[1;38;5;196mCOMET ERROR:\u001b[0m File upload failed: ValueError('Uploading file failed (500) with max retries: 4 on url \\'https://www.comet.com/clientlib/asset/upload\\': b\\'{\"msg\":\"unexpected error\",\"code\":500,\"data\":null,\"sdk_error_code\":0}\\''), file: /tmp/tmp_wn75fiy/tmp0e8v0yde\n",
      "\u001b[1;38;5;196mCOMET ERROR:\u001b[0m File upload failed: ValueError('Uploading file failed (500) with max retries: 4 on url \\'https://www.comet.com/clientlib/asset/upload\\': b\\'{\"msg\":\"unexpected error\",\"code\":500,\"data\":null,\"sdk_error_code\":0}\\''), file: /tmp/tmp_wn75fiy/tmp2egvx7lk\n"
     ]
    },
    {
     "name": "stdout",
     "output_type": "stream",
     "text": [
      "Validation loss decreased (0.000138 --> 0.000134).  Saving model ...\n",
      "Epoch: 342/400... Loss: 0.000486... Val Loss: 0.000134\n"
     ]
    },
    {
     "name": "stderr",
     "output_type": "stream",
     "text": [
      "\u001b[1;38;5;196mCOMET ERROR:\u001b[0m File upload failed: ValueError('Uploading file failed (500) with max retries: 4 on url \\'https://www.comet.com/clientlib/asset/upload\\': b\\'{\"msg\":\"unexpected error\",\"code\":500,\"data\":null,\"sdk_error_code\":0}\\''), file: /tmp/tmp_wn75fiy/tmpt9_o2qm2\n",
      "\u001b[1;38;5;196mCOMET ERROR:\u001b[0m File upload failed: ValueError('Uploading file failed (500) with max retries: 4 on url \\'https://www.comet.com/clientlib/asset/upload\\': b\\'{\"msg\":\"unexpected error\",\"code\":500,\"data\":null,\"sdk_error_code\":0}\\''), file: /tmp/tmp_wn75fiy/tmpcad5gcrr\n"
     ]
    },
    {
     "name": "stdout",
     "output_type": "stream",
     "text": [
      "Epoch: 343/400... Loss: 0.000046... Val Loss: 0.000156\n"
     ]
    },
    {
     "name": "stderr",
     "output_type": "stream",
     "text": [
      "\u001b[1;38;5;196mCOMET ERROR:\u001b[0m File upload failed: ValueError('Uploading file failed (500) with max retries: 4 on url \\'https://www.comet.com/clientlib/asset/upload\\': b\\'{\"msg\":\"unexpected error\",\"code\":500,\"data\":null,\"sdk_error_code\":0}\\''), file: /tmp/tmp_wn75fiy/tmpy4gqszp4\n",
      "\u001b[1;38;5;196mCOMET ERROR:\u001b[0m File upload failed: ValueError('Uploading file failed (500) with max retries: 4 on url \\'https://www.comet.com/clientlib/asset/upload\\': b\\'{\"msg\":\"unexpected error\",\"code\":500,\"data\":null,\"sdk_error_code\":0}\\''), file: /tmp/tmp_wn75fiy/tmp875vhnz_\n"
     ]
    },
    {
     "name": "stdout",
     "output_type": "stream",
     "text": [
      "Epoch: 344/400... Loss: 0.000033... Val Loss: 0.000141\n",
      "Epoch: 345/400... Loss: 0.000091... Val Loss: 0.000159\n",
      "Epoch: 346/400... Loss: 0.000051... Val Loss: 0.000166\n",
      "Epoch: 347/400... Loss: 0.000162... Val Loss: 0.000186\n",
      "Validation loss decreased (0.000134 --> 0.000130).  Saving model ...\n",
      "Epoch: 348/400... Loss: 0.000042... Val Loss: 0.000130\n"
     ]
    },
    {
     "name": "stderr",
     "output_type": "stream",
     "text": [
      "\u001b[1;38;5;196mCOMET ERROR:\u001b[0m File upload failed: ValueError('Uploading file failed (500) with max retries: 4 on url \\'https://www.comet.com/clientlib/asset/upload\\': b\\'{\"msg\":\"unexpected error\",\"code\":500,\"data\":null,\"sdk_error_code\":0}\\''), file: /tmp/tmp_wn75fiy/tmpshlrf2io\n",
      "\u001b[1;38;5;196mCOMET ERROR:\u001b[0m File upload failed: ValueError('Uploading file failed (500) with max retries: 4 on url \\'https://www.comet.com/clientlib/asset/upload\\': b\\'{\"msg\":\"unexpected error\",\"code\":500,\"data\":null,\"sdk_error_code\":0}\\''), file: /tmp/tmp_wn75fiy/tmpz1e_zr5v\n"
     ]
    },
    {
     "name": "stdout",
     "output_type": "stream",
     "text": [
      "Epoch: 349/400... Loss: 0.000093... Val Loss: 0.000140\n",
      "Epoch: 350/400... Loss: 0.000146... Val Loss: 0.000140\n",
      "Epoch: 351/400... Loss: 0.000607... Val Loss: 0.000135\n",
      "Epoch: 352/400... Loss: 0.000164... Val Loss: 0.000142\n",
      "Epoch: 353/400... Loss: 0.000062... Val Loss: 0.000151\n",
      "Epoch: 354/400... Loss: 0.000098... Val Loss: 0.000149\n",
      "Epoch: 355/400... Loss: 0.000153... Val Loss: 0.000131\n",
      "Epoch: 356/400... Loss: 0.000031... Val Loss: 0.000135\n",
      "Validation loss decreased (0.000130 --> 0.000128).  Saving model ...\n",
      "Epoch: 357/400... Loss: 0.000301... Val Loss: 0.000128\n",
      "Validation loss decreased (0.000128 --> 0.000127).  Saving model ...\n",
      "Epoch: 358/400... Loss: 0.000283... Val Loss: 0.000127\n"
     ]
    },
    {
     "name": "stderr",
     "output_type": "stream",
     "text": [
      "\u001b[1;38;5;196mCOMET ERROR:\u001b[0m File upload failed: ValueError('Uploading file failed (500) with max retries: 4 on url \\'https://www.comet.com/clientlib/asset/upload\\': b\\'{\"msg\":\"unexpected error\",\"code\":500,\"data\":null,\"sdk_error_code\":0}\\''), file: /tmp/tmp_wn75fiy/tmp7se1ttvh\n",
      "\u001b[1;38;5;196mCOMET ERROR:\u001b[0m File upload failed: ValueError('Uploading file failed (500) with max retries: 4 on url \\'https://www.comet.com/clientlib/asset/upload\\': b\\'{\"msg\":\"unexpected error\",\"code\":500,\"data\":null,\"sdk_error_code\":0}\\''), file: /tmp/tmp_wn75fiy/tmpwsu8exo4\n",
      "\u001b[1;38;5;196mCOMET ERROR:\u001b[0m File upload failed: ValueError('Uploading file failed (500) with max retries: 4 on url \\'https://www.comet.com/clientlib/asset/upload\\': b\\'{\"msg\":\"unexpected error\",\"code\":500,\"data\":null,\"sdk_error_code\":0}\\''), file: /tmp/tmp_wn75fiy/tmpxmbezy9o\n",
      "\u001b[1;38;5;196mCOMET ERROR:\u001b[0m File upload failed: ValueError('Uploading file failed (500) with max retries: 4 on url \\'https://www.comet.com/clientlib/asset/upload\\': b\\'{\"msg\":\"unexpected error\",\"code\":500,\"data\":null,\"sdk_error_code\":0}\\''), file: /tmp/tmp_wn75fiy/tmplpnaceu5\n"
     ]
    },
    {
     "name": "stdout",
     "output_type": "stream",
     "text": [
      "Epoch: 359/400... Loss: 0.000123... Val Loss: 0.000134\n",
      "Epoch: 360/400... Loss: 0.000209... Val Loss: 0.000130\n",
      "Epoch: 361/400... Loss: 0.000446... Val Loss: 0.000130\n",
      "Epoch: 362/400... Loss: 0.000390... Val Loss: 0.000164\n",
      "Epoch: 363/400... Loss: 0.000091... Val Loss: 0.000151\n",
      "Epoch: 364/400... Loss: 0.000086... Val Loss: 0.000129\n",
      "Epoch: 365/400... Loss: 0.000045... Val Loss: 0.000139\n",
      "Epoch: 366/400... Loss: 0.000110... Val Loss: 0.000152\n",
      "Epoch: 367/400... Loss: 0.000027... Val Loss: 0.000141\n",
      "Validation loss decreased (0.000127 --> 0.000126).  Saving model ...\n",
      "Epoch: 368/400... Loss: 0.000090... Val Loss: 0.000126\n",
      "Epoch: 369/400... Loss: 0.000288... Val Loss: 0.000153\n"
     ]
    },
    {
     "name": "stderr",
     "output_type": "stream",
     "text": [
      "\u001b[1;38;5;196mCOMET ERROR:\u001b[0m File upload failed: ValueError('Uploading file failed (500) with max retries: 4 on url \\'https://www.comet.com/clientlib/asset/upload\\': b\\'{\"msg\":\"unexpected error\",\"code\":500,\"data\":null,\"sdk_error_code\":0}\\''), file: /tmp/tmp_wn75fiy/tmp7s2ojw9_\n",
      "\u001b[1;38;5;196mCOMET ERROR:\u001b[0m File upload failed: ValueError('Uploading file failed (500) with max retries: 4 on url \\'https://www.comet.com/clientlib/asset/upload\\': b\\'{\"msg\":\"unexpected error\",\"code\":500,\"data\":null,\"sdk_error_code\":0}\\''), file: /tmp/tmp_wn75fiy/tmpiief9shy\n"
     ]
    },
    {
     "name": "stdout",
     "output_type": "stream",
     "text": [
      "Epoch: 370/400... Loss: 0.000198... Val Loss: 0.000148\n",
      "Validation loss decreased (0.000126 --> 0.000121).  Saving model ...\n",
      "Epoch: 371/400... Loss: 0.000036... Val Loss: 0.000121\n"
     ]
    },
    {
     "name": "stderr",
     "output_type": "stream",
     "text": [
      "\u001b[1;38;5;196mCOMET ERROR:\u001b[0m File upload failed: ValueError('Uploading file failed (500) with max retries: 4 on url \\'https://www.comet.com/clientlib/asset/upload\\': b\\'{\"msg\":\"unexpected error\",\"code\":500,\"data\":null,\"sdk_error_code\":0}\\''), file: /tmp/tmp_wn75fiy/tmp4v3upgor\n"
     ]
    },
    {
     "name": "stdout",
     "output_type": "stream",
     "text": [
      "Epoch: 372/400... Loss: 0.000138... Val Loss: 0.000123\n"
     ]
    },
    {
     "name": "stderr",
     "output_type": "stream",
     "text": [
      "\u001b[1;38;5;196mCOMET ERROR:\u001b[0m File upload failed: ValueError('Uploading file failed (500) with max retries: 4 on url \\'https://www.comet.com/clientlib/asset/upload\\': b\\'{\"msg\":\"unexpected error\",\"code\":500,\"data\":null,\"sdk_error_code\":0}\\''), file: /tmp/tmp_wn75fiy/tmp4n12jp_u\n"
     ]
    },
    {
     "name": "stdout",
     "output_type": "stream",
     "text": [
      "Epoch: 373/400... Loss: 0.000120... Val Loss: 0.000138\n",
      "Epoch: 374/400... Loss: 0.000503... Val Loss: 0.000122\n",
      "Epoch: 375/400... Loss: 0.000162... Val Loss: 0.000128\n",
      "Epoch: 376/400... Loss: 0.000115... Val Loss: 0.000122\n",
      "Epoch: 377/400... Loss: 0.000092... Val Loss: 0.000136\n",
      "Epoch: 378/400... Loss: 0.000108... Val Loss: 0.000132\n",
      "Epoch: 379/400... Loss: 0.000020... Val Loss: 0.000122\n",
      "Validation loss decreased (0.000121 --> 0.000120).  Saving model ...\n",
      "Epoch: 380/400... Loss: 0.000260... Val Loss: 0.000120\n"
     ]
    },
    {
     "name": "stderr",
     "output_type": "stream",
     "text": [
      "\u001b[1;38;5;196mCOMET ERROR:\u001b[0m File upload failed: ValueError('Uploading file failed (500) with max retries: 4 on url \\'https://www.comet.com/clientlib/asset/upload\\': b\\'{\"msg\":\"unexpected error\",\"code\":500,\"data\":null,\"sdk_error_code\":0}\\''), file: /tmp/tmp_wn75fiy/tmpb2j4zdkw\n",
      "\u001b[1;38;5;196mCOMET ERROR:\u001b[0m File upload failed: ValueError('Uploading file failed (500) with max retries: 4 on url \\'https://www.comet.com/clientlib/asset/upload\\': b\\'{\"msg\":\"unexpected error\",\"code\":500,\"data\":null,\"sdk_error_code\":0}\\''), file: /tmp/tmp_wn75fiy/tmp2c8bk9al\n"
     ]
    },
    {
     "name": "stdout",
     "output_type": "stream",
     "text": [
      "Epoch: 381/400... Loss: 0.000072... Val Loss: 0.000136\n",
      "Epoch: 382/400... Loss: 0.000100... Val Loss: 0.000120\n",
      "Validation loss decreased (0.000120 --> 0.000117).  Saving model ...\n",
      "Epoch: 383/400... Loss: 0.000271... Val Loss: 0.000117\n"
     ]
    },
    {
     "name": "stderr",
     "output_type": "stream",
     "text": [
      "\u001b[1;38;5;196mCOMET ERROR:\u001b[0m File upload failed: ValueError('Uploading file failed (500) with max retries: 4 on url \\'https://www.comet.com/clientlib/asset/upload\\': b\\'{\"msg\":\"unexpected error\",\"code\":500,\"data\":null,\"sdk_error_code\":0}\\''), file: /tmp/tmp_wn75fiy/tmpf1kj3f3p\n",
      "\u001b[1;38;5;196mCOMET ERROR:\u001b[0m File upload failed: ValueError('Uploading file failed (500) with max retries: 4 on url \\'https://www.comet.com/clientlib/asset/upload\\': b\\'{\"msg\":\"unexpected error\",\"code\":500,\"data\":null,\"sdk_error_code\":0}\\''), file: /tmp/tmp_wn75fiy/tmptez016kt\n"
     ]
    },
    {
     "name": "stdout",
     "output_type": "stream",
     "text": [
      "Epoch: 384/400... Loss: 0.000208... Val Loss: 0.000121\n",
      "Epoch: 385/400... Loss: 0.000073... Val Loss: 0.000118\n",
      "Epoch: 386/400... Loss: 0.000131... Val Loss: 0.000119\n",
      "Epoch: 387/400... Loss: 0.000049... Val Loss: 0.000125\n",
      "Epoch: 388/400... Loss: 0.000067... Val Loss: 0.000138\n",
      "Epoch: 389/400... Loss: 0.000191... Val Loss: 0.000123\n",
      "Epoch: 390/400... Loss: 0.000183... Val Loss: 0.000126\n",
      "Validation loss decreased (0.000117 --> 0.000114).  Saving model ...\n",
      "Epoch: 391/400... Loss: 0.000090... Val Loss: 0.000114\n"
     ]
    },
    {
     "name": "stderr",
     "output_type": "stream",
     "text": [
      "\u001b[1;38;5;196mCOMET ERROR:\u001b[0m File upload failed: ValueError('Uploading file failed (500) with max retries: 4 on url \\'https://www.comet.com/clientlib/asset/upload\\': b\\'{\"msg\":\"unexpected error\",\"code\":500,\"data\":null,\"sdk_error_code\":0}\\''), file: /tmp/tmp_wn75fiy/tmpa7afaxtw\n",
      "\u001b[1;38;5;196mCOMET ERROR:\u001b[0m File upload failed: ValueError('Uploading file failed (500) with max retries: 4 on url \\'https://www.comet.com/clientlib/asset/upload\\': b\\'{\"msg\":\"unexpected error\",\"code\":500,\"data\":null,\"sdk_error_code\":0}\\''), file: /tmp/tmp_wn75fiy/tmprufb4wkt\n"
     ]
    },
    {
     "name": "stdout",
     "output_type": "stream",
     "text": [
      "Epoch: 392/400... Loss: 0.000089... Val Loss: 0.000118\n",
      "Epoch: 393/400... Loss: 0.000181... Val Loss: 0.000120\n",
      "Epoch: 394/400... Loss: 0.000265... Val Loss: 0.000158\n",
      "Epoch: 395/400... Loss: 0.000057... Val Loss: 0.000114\n",
      "Epoch: 396/400... Loss: 0.000385... Val Loss: 0.000120\n",
      "Epoch: 397/400... Loss: 0.000139... Val Loss: 0.000124\n",
      "Epoch: 398/400... Loss: 0.000048... Val Loss: 0.000115\n",
      "Epoch: 399/400... Loss: 0.000031... Val Loss: 0.000124\n"
     ]
    },
    {
     "name": "stderr",
     "output_type": "stream",
     "text": [
      "\u001b[1;38;5;214mCOMET WARNING:\u001b[0m To get all data logged automatically, import comet_ml before the following modules: torch.\n",
      "\u001b[1;38;5;39mCOMET INFO:\u001b[0m ---------------------------------------------------------------------------------------\n",
      "\u001b[1;38;5;39mCOMET INFO:\u001b[0m Comet.ml Experiment Summary\n",
      "\u001b[1;38;5;39mCOMET INFO:\u001b[0m ---------------------------------------------------------------------------------------\n",
      "\u001b[1;38;5;39mCOMET INFO:\u001b[0m   Data:\n",
      "\u001b[1;38;5;39mCOMET INFO:\u001b[0m     display_summary_level : 1\n",
      "\u001b[1;38;5;39mCOMET INFO:\u001b[0m     url                   : https://www.comet.com/deep-dynamics/deep-dynamics/f1309ce2126a4a3aaf44e334e1e8b89c\n",
      "\u001b[1;38;5;39mCOMET INFO:\u001b[0m   Metrics [count] (min, max):\n",
      "\u001b[1;38;5;39mCOMET INFO:\u001b[0m     val_loss [20000] : (3.9306892176682595e-06, 0.6291372179985046)\n",
      "\u001b[1;38;5;39mCOMET INFO:\u001b[0m   Others:\n",
      "\u001b[1;38;5;39mCOMET INFO:\u001b[0m     Name : 2layers_16neurons_4batch_0lr\n",
      "\u001b[1;38;5;39mCOMET INFO:\u001b[0m   Parameters:\n",
      "\u001b[1;38;5;39mCOMET INFO:\u001b[0m     ACTIONS       : ['THROTTLE_CMD', 'STEERING_CMD']\n",
      "\u001b[1;38;5;39mCOMET INFO:\u001b[0m     MODEL         : {\"HORIZON\": 2, \"LAYERS\": [{\"ACTIVATION\": \"Mish\", \"DENSE\": null, \"OUT_FEATURES\": 16}, {\"ACTIVATION\": \"Mish\", \"DENSE\": null, \"OUT_FEATURES\": 16}, {\"ACTIVATION\": \"Softplus\", \"DENSE\": null}], \"NAME\": \"DeepDynamics\", \"OPTIMIZATION\": {\"BATCH_SIZE\": 4, \"LOSS\": \"MAE\", \"LR\": 0.0001, \"NUM_EPOCHS\": 400, \"OPTIMIZER\": \"Adam\"}}\n",
      "\u001b[1;38;5;39mCOMET INFO:\u001b[0m     PARAMETERS    : [{'Bf': 2.579}, {'Cf': 1.2}, {'Df': 0.192}, {'Br': 3.3852}, {'Cr': 1.2691}, {'Dr': 0.1737}, {'Cm1': 0.287}, {'Cm2': 0.0545}, {'Cr0': 0.0518}, {'Cr2': 0.00035}, {'Izz': 2.78e-05}]\n",
      "\u001b[1;38;5;39mCOMET INFO:\u001b[0m     STATE         : ['VX', 'VY', 'YAW_RATE', 'THROTTLE_FB', 'STEERING_FB']\n",
      "\u001b[1;38;5;39mCOMET INFO:\u001b[0m     VEHICLE_SPECS : {\"lf\": 0.029, \"lr\": 0.033, \"mass\": 0.041}\n",
      "\u001b[1;38;5;39mCOMET INFO:\u001b[0m   Uploads:\n",
      "\u001b[1;38;5;39mCOMET INFO:\u001b[0m     environment details      : 1\n",
      "\u001b[1;38;5;39mCOMET INFO:\u001b[0m     filename                 : 1\n",
      "\u001b[1;38;5;39mCOMET INFO:\u001b[0m     git metadata             : 1\n",
      "\u001b[1;38;5;39mCOMET INFO:\u001b[0m     git-patch (uncompressed) : 1 (1.92 KB)\n",
      "\u001b[1;38;5;39mCOMET INFO:\u001b[0m     installed packages       : 1\n",
      "\u001b[1;38;5;39mCOMET INFO:\u001b[0m     model-element            : 346 (857.13 KB)\n",
      "\u001b[1;38;5;39mCOMET INFO:\u001b[0m     notebook                 : 1\n",
      "\u001b[1;38;5;39mCOMET INFO:\u001b[0m     os packages              : 1\n",
      "\u001b[1;38;5;39mCOMET INFO:\u001b[0m     source_code              : 1\n",
      "\u001b[1;38;5;39mCOMET INFO:\u001b[0m \n"
     ]
    },
    {
     "name": "stdout",
     "output_type": "stream",
     "text": [
      "Validation loss decreased (0.000114 --> 0.000112).  Saving model ...\n",
      "Epoch: 400/400... Loss: 0.000163... Val Loss: 0.000112\n",
      "[Linear(in_features=14, out_features=16, bias=True), Mish(), Linear(in_features=16, out_features=16, bias=True), Mish(), Linear(in_features=16, out_features=11, bias=True), Softplus(beta=1, threshold=20)]\n"
     ]
    },
    {
     "name": "stderr",
     "output_type": "stream",
     "text": [
      "\u001b[1;38;5;214mCOMET WARNING:\u001b[0m To get all data logged automatically, import comet_ml before the following modules: torch.\n",
      "\u001b[1;38;5;214mCOMET WARNING:\u001b[0m As you are running in a Jupyter environment, you will need to call `experiment.end()` when finished to ensure all metrics and code are logged before exiting.\n",
      "\u001b[1;38;5;196mCOMET ERROR:\u001b[0m File upload failed: ValueError('Uploading file failed (500) with max retries: 4 on url \\'https://www.comet.com/clientlib/asset/upload\\': b\\'{\"msg\":\"unexpected error\",\"code\":500,\"data\":null,\"sdk_error_code\":0}\\''), file: /tmp/tmp_wn75fiy/tmp_a89kjc1\n",
      "\u001b[1;38;5;196mCOMET ERROR:\u001b[0m File upload failed: ValueError('Uploading file failed (500) with max retries: 4 on url \\'https://www.comet.com/clientlib/asset/upload\\': b\\'{\"msg\":\"unexpected error\",\"code\":500,\"data\":null,\"sdk_error_code\":0}\\''), file: /tmp/tmp_wn75fiy/tmpeuab776z\n",
      "\u001b[1;38;5;39mCOMET INFO:\u001b[0m Experiment is live on comet.com https://www.comet.com/deep-dynamics/deep-dynamics/58d77df296a14873af87daad40e633b0\n",
      "\n"
     ]
    },
    {
     "name": "stdout",
     "output_type": "stream",
     "text": [
      "Validation loss decreased (inf --> 0.095159).  Saving model ...\n",
      "Epoch: 1/400... Loss: 0.046157... Val Loss: 0.095159\n",
      "Validation loss decreased (0.095159 --> 0.028614).  Saving model ...\n",
      "Epoch: 2/400... Loss: 0.029717... Val Loss: 0.028614\n",
      "Validation loss decreased (0.028614 --> 0.024501).  Saving model ...\n",
      "Epoch: 3/400... Loss: 0.010432... Val Loss: 0.024501\n",
      "Validation loss decreased (0.024501 --> 0.023276).  Saving model ...\n",
      "Epoch: 4/400... Loss: 0.010058... Val Loss: 0.023276\n",
      "Validation loss decreased (0.023276 --> 0.022157).  Saving model ...\n",
      "Epoch: 5/400... Loss: 0.007256... Val Loss: 0.022157\n",
      "Validation loss decreased (0.022157 --> 0.021355).  Saving model ...\n",
      "Epoch: 6/400... Loss: 0.002553... Val Loss: 0.021355\n",
      "Validation loss decreased (0.021355 --> 0.020814).  Saving model ...\n",
      "Epoch: 7/400... Loss: 0.007693... Val Loss: 0.020814\n",
      "Validation loss decreased (0.020814 --> 0.020531).  Saving model ...\n",
      "Epoch: 8/400... Loss: 0.004437... Val Loss: 0.020531\n",
      "Validation loss decreased (0.020531 --> 0.020216).  Saving model ...\n",
      "Epoch: 9/400... Loss: 0.004862... Val Loss: 0.020216\n",
      "Validation loss decreased (0.020216 --> 0.019905).  Saving model ...\n",
      "Epoch: 10/400... Loss: 0.006570... Val Loss: 0.019905\n",
      "Validation loss decreased (0.019905 --> 0.019691).  Saving model ...\n",
      "Epoch: 11/400... Loss: 0.005977... Val Loss: 0.019691\n",
      "Validation loss decreased (0.019691 --> 0.019297).  Saving model ...\n",
      "Epoch: 12/400... Loss: 0.001683... Val Loss: 0.019297\n",
      "Validation loss decreased (0.019297 --> 0.018563).  Saving model ...\n",
      "Epoch: 13/400... Loss: 0.001726... Val Loss: 0.018563\n",
      "Validation loss decreased (0.018563 --> 0.016988).  Saving model ...\n",
      "Epoch: 14/400... Loss: 0.011217... Val Loss: 0.016988\n",
      "Validation loss decreased (0.016988 --> 0.015193).  Saving model ...\n",
      "Epoch: 15/400... Loss: 0.004040... Val Loss: 0.015193\n",
      "Validation loss decreased (0.015193 --> 0.014048).  Saving model ...\n",
      "Epoch: 16/400... Loss: 0.007141... Val Loss: 0.014048\n",
      "Validation loss decreased (0.014048 --> 0.010248).  Saving model ...\n",
      "Epoch: 17/400... Loss: 0.000723... Val Loss: 0.010248\n",
      "Validation loss decreased (0.010248 --> 0.009844).  Saving model ...\n",
      "Epoch: 18/400... Loss: 0.037635... Val Loss: 0.009844\n",
      "Validation loss decreased (0.009844 --> 0.009457).  Saving model ...\n",
      "Epoch: 19/400... Loss: 0.003799... Val Loss: 0.009457\n",
      "Validation loss decreased (0.009457 --> 0.008724).  Saving model ...\n",
      "Epoch: 20/400... Loss: 0.004194... Val Loss: 0.008724\n",
      "Validation loss decreased (0.008724 --> 0.007819).  Saving model ...\n",
      "Epoch: 21/400... Loss: 0.012754... Val Loss: 0.007819\n"
     ]
    }
   ],
   "source": [
    "import yaml\n",
    "import os\n",
    "import torch\n",
    "from models import DeepDynamicsDataset, DeepDynamicsModel\n",
    "from train import train\n",
    "\n",
    "hyperparams = {\n",
    "    \"layers\" : [2, 3, 4],\n",
    "    \"neurons\" : [16, 32, 64, 128],\n",
    "    \"batch_size\": [4, 8, 16],\n",
    "    \"lr\" : [0.0001, 0.0003, 0.001, 0.003]\n",
    "}\n",
    "dataset_file = \"../data/bayesrace/DYN-PP-ETHZ_2.npz\"\n",
    "model_cfg = \"../cfgs/model/deep_dynamics.yaml\"\n",
    "for layers in hyperparams[\"layers\"]:\n",
    "      for neurons in hyperparams[\"neurons\"]:\n",
    "            for batch_size in hyperparams[\"batch_size\"]:\n",
    "                  for lr in hyperparams[\"lr\"]:\n",
    "                        with open(model_cfg, 'rb') as f:\n",
    "                            param_dict = yaml.load(f, Loader=yaml.SafeLoader)\n",
    "                        experiment_name = \"%dlayers_%dneurons_%dbatch_%flr\" % (layers, neurons, batch_size, lr)\n",
    "                        if not os.path.exists(\"../output\"):\n",
    "                            os.mkdir(\"../output\")\n",
    "                        if not os.path.exists(\"../output/%s\" % (os.path.basename(os.path.normpath(model_cfg)).split('.')[0])):\n",
    "                            os.mkdir(\"../output/%s\" % (os.path.basename(os.path.normpath(model_cfg)).split('.')[0]))\n",
    "                        output_dir = \"../output/%s/%s\" % (os.path.basename(os.path.normpath(model_cfg)).split('.')[0], experiment_name)\n",
    "                        if not os.path.exists(output_dir):\n",
    "                                os.mkdir(output_dir)\n",
    "                        dataset = DeepDynamicsDataset(dataset_file)\n",
    "                        train_dataset, val_dataset = dataset.split(0.85)\n",
    "                        for i in range(4 - layers):\n",
    "                            del(param_dict[\"MODEL\"][\"LAYERS\"][0])\n",
    "                        for i in range(layers):\n",
    "                             param_dict[\"MODEL\"][\"LAYERS\"][i][\"OUT_FEATURES\"] = neurons\n",
    "                        param_dict[\"MODEL\"][\"OPTIMIZATION\"][\"BATCH_SIZE\"] = batch_size\n",
    "                        param_dict[\"MODEL\"][\"OPTIMIZATION\"][\"LR\"] = lr\n",
    "                        ddm = DeepDynamicsModel(param_dict)\n",
    "                        train_data_loader = torch.utils.data.DataLoader(train_dataset, batch_size=batch_size, shuffle=True, drop_last=True)\n",
    "                        val_data_loader = torch.utils.data.DataLoader(val_dataset, batch_size=batch_size, shuffle=True)\n",
    "                        train(ddm, train_data_loader, val_data_loader, experiment_name, True, output_dir)\n"
   ]
  },
  {
   "cell_type": "code",
   "execution_count": 8,
   "metadata": {},
   "outputs": [],
   "source": []
  },
  {
   "cell_type": "code",
   "execution_count": null,
   "metadata": {},
   "outputs": [],
   "source": []
  }
 ],
 "metadata": {
  "kernelspec": {
   "display_name": "Python 3",
   "language": "python",
   "name": "python3"
  },
  "language_info": {
   "codemirror_mode": {
    "name": "ipython",
    "version": 3
   },
   "file_extension": ".py",
   "mimetype": "text/x-python",
   "name": "python",
   "nbconvert_exporter": "python",
   "pygments_lexer": "ipython3",
   "version": "3.10.6"
  },
  "orig_nbformat": 4
 },
 "nbformat": 4,
 "nbformat_minor": 2
}
